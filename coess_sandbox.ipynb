{
 "cells": [
  {
   "cell_type": "code",
   "execution_count": 2,
   "metadata": {},
   "outputs": [],
   "source": [
    "import numpy as np, pandas as pd, time, os, subprocess, scipy as sp, re, seaborn as sns\n",
    "import app_config, importlib, app_lib\n",
    "import diffmap as dm\n",
    "from sklearn.metrics.pairwise import euclidean_distances\n",
    "\n",
    "# plot_data_df = all_data.obs\n",
    "# plot_data_df[app_config.params['display_coordinates']['x']] = all_data.obsm['X_umap'][:,0]\n",
    "# plot_data_df[app_config.params['display_coordinates']['y']] = all_data.obsm['X_umap'][:,1]"
   ]
  },
  {
   "cell_type": "code",
   "execution_count": 3,
   "metadata": {},
   "outputs": [
    {
     "data": {
      "text/html": [
       "<div>\n",
       "<style scoped>\n",
       "    .dataframe tbody tr th:only-of-type {\n",
       "        vertical-align: middle;\n",
       "    }\n",
       "\n",
       "    .dataframe tbody tr th {\n",
       "        vertical-align: top;\n",
       "    }\n",
       "\n",
       "    .dataframe thead th {\n",
       "        text-align: right;\n",
       "    }\n",
       "</style>\n",
       "<table border=\"1\" class=\"dataframe\">\n",
       "  <thead>\n",
       "    <tr style=\"text-align: right;\">\n",
       "      <th></th>\n",
       "      <th>EM_x</th>\n",
       "      <th>EM_y</th>\n",
       "      <th>EM_z</th>\n",
       "      <th>tSNE_x</th>\n",
       "      <th>tSNE_y</th>\n",
       "      <th>hEM_x</th>\n",
       "      <th>hEM_y</th>\n",
       "      <th>hEM_z</th>\n",
       "      <th>htSNE_x</th>\n",
       "      <th>htSNE_y</th>\n",
       "      <th>hUMAP_x</th>\n",
       "      <th>hUMAP_y</th>\n",
       "      <th>roarke_clusters</th>\n",
       "      <th>top_enriched_clusters</th>\n",
       "      <th>gene_names</th>\n",
       "      <th>max_enrichments</th>\n",
       "    </tr>\n",
       "  </thead>\n",
       "  <tbody>\n",
       "    <tr>\n",
       "      <td>0</td>\n",
       "      <td>0.000386</td>\n",
       "      <td>0.000528</td>\n",
       "      <td>0.000687</td>\n",
       "      <td>-36.286868</td>\n",
       "      <td>46.840289</td>\n",
       "      <td>0.000124</td>\n",
       "      <td>0.000136</td>\n",
       "      <td>0.000166</td>\n",
       "      <td>-15.135076</td>\n",
       "      <td>55.099715</td>\n",
       "      <td>2.957289</td>\n",
       "      <td>9.025891</td>\n",
       "      <td>Unknown</td>\n",
       "      <td>Unknown</td>\n",
       "      <td>A1BG</td>\n",
       "      <td>4.190389</td>\n",
       "    </tr>\n",
       "    <tr>\n",
       "      <td>1</td>\n",
       "      <td>0.000372</td>\n",
       "      <td>0.000353</td>\n",
       "      <td>0.000509</td>\n",
       "      <td>-0.026093</td>\n",
       "      <td>39.027340</td>\n",
       "      <td>0.000119</td>\n",
       "      <td>0.000091</td>\n",
       "      <td>0.000123</td>\n",
       "      <td>38.991786</td>\n",
       "      <td>10.915805</td>\n",
       "      <td>5.869159</td>\n",
       "      <td>-2.235847</td>\n",
       "      <td>Unknown</td>\n",
       "      <td>Unknown</td>\n",
       "      <td>A1CF</td>\n",
       "      <td>2.505144</td>\n",
       "    </tr>\n",
       "    <tr>\n",
       "      <td>2</td>\n",
       "      <td>0.000284</td>\n",
       "      <td>0.000252</td>\n",
       "      <td>0.000120</td>\n",
       "      <td>-5.460029</td>\n",
       "      <td>2.170856</td>\n",
       "      <td>0.000091</td>\n",
       "      <td>0.000065</td>\n",
       "      <td>0.000029</td>\n",
       "      <td>-1.451249</td>\n",
       "      <td>1.268335</td>\n",
       "      <td>2.488397</td>\n",
       "      <td>-1.170052</td>\n",
       "      <td>Unknown</td>\n",
       "      <td>Unknown</td>\n",
       "      <td>A2M</td>\n",
       "      <td>0.000000</td>\n",
       "    </tr>\n",
       "    <tr>\n",
       "      <td>3</td>\n",
       "      <td>0.000309</td>\n",
       "      <td>-0.025158</td>\n",
       "      <td>0.000982</td>\n",
       "      <td>-7.412075</td>\n",
       "      <td>-30.817777</td>\n",
       "      <td>0.000099</td>\n",
       "      <td>-0.006482</td>\n",
       "      <td>0.000237</td>\n",
       "      <td>5.171936</td>\n",
       "      <td>-71.515775</td>\n",
       "      <td>-4.953838</td>\n",
       "      <td>14.731494</td>\n",
       "      <td>Unknown</td>\n",
       "      <td>Unknown</td>\n",
       "      <td>A2ML1</td>\n",
       "      <td>0.000000</td>\n",
       "    </tr>\n",
       "    <tr>\n",
       "      <td>4</td>\n",
       "      <td>0.000343</td>\n",
       "      <td>0.000272</td>\n",
       "      <td>0.000418</td>\n",
       "      <td>3.999725</td>\n",
       "      <td>5.142851</td>\n",
       "      <td>0.000110</td>\n",
       "      <td>0.000070</td>\n",
       "      <td>0.000101</td>\n",
       "      <td>3.114053</td>\n",
       "      <td>-4.136086</td>\n",
       "      <td>2.570755</td>\n",
       "      <td>-1.473688</td>\n",
       "      <td>Unknown</td>\n",
       "      <td>Unknown</td>\n",
       "      <td>A3GALT2</td>\n",
       "      <td>0.000000</td>\n",
       "    </tr>\n",
       "    <tr>\n",
       "      <td>...</td>\n",
       "      <td>...</td>\n",
       "      <td>...</td>\n",
       "      <td>...</td>\n",
       "      <td>...</td>\n",
       "      <td>...</td>\n",
       "      <td>...</td>\n",
       "      <td>...</td>\n",
       "      <td>...</td>\n",
       "      <td>...</td>\n",
       "      <td>...</td>\n",
       "      <td>...</td>\n",
       "      <td>...</td>\n",
       "      <td>...</td>\n",
       "      <td>...</td>\n",
       "      <td>...</td>\n",
       "      <td>...</td>\n",
       "    </tr>\n",
       "    <tr>\n",
       "      <td>17629</td>\n",
       "      <td>0.000335</td>\n",
       "      <td>0.000303</td>\n",
       "      <td>0.000413</td>\n",
       "      <td>-11.454598</td>\n",
       "      <td>-36.487676</td>\n",
       "      <td>0.000108</td>\n",
       "      <td>0.000078</td>\n",
       "      <td>0.000100</td>\n",
       "      <td>-2.493834</td>\n",
       "      <td>12.193343</td>\n",
       "      <td>-0.504605</td>\n",
       "      <td>0.005887</td>\n",
       "      <td>Unknown</td>\n",
       "      <td>Unknown</td>\n",
       "      <td>ZYG11A</td>\n",
       "      <td>0.000000</td>\n",
       "    </tr>\n",
       "    <tr>\n",
       "      <td>17630</td>\n",
       "      <td>0.000527</td>\n",
       "      <td>-0.000407</td>\n",
       "      <td>0.000147</td>\n",
       "      <td>41.116041</td>\n",
       "      <td>50.268671</td>\n",
       "      <td>0.000169</td>\n",
       "      <td>-0.000105</td>\n",
       "      <td>0.000035</td>\n",
       "      <td>43.179570</td>\n",
       "      <td>55.526012</td>\n",
       "      <td>7.782668</td>\n",
       "      <td>13.050512</td>\n",
       "      <td>Unknown</td>\n",
       "      <td>Unknown</td>\n",
       "      <td>ZYG11B</td>\n",
       "      <td>3.413896</td>\n",
       "    </tr>\n",
       "    <tr>\n",
       "      <td>17631</td>\n",
       "      <td>0.000089</td>\n",
       "      <td>0.000205</td>\n",
       "      <td>0.000488</td>\n",
       "      <td>0.862270</td>\n",
       "      <td>-23.636117</td>\n",
       "      <td>0.000029</td>\n",
       "      <td>0.000053</td>\n",
       "      <td>0.000118</td>\n",
       "      <td>16.793142</td>\n",
       "      <td>-33.694676</td>\n",
       "      <td>4.512137</td>\n",
       "      <td>-2.932982</td>\n",
       "      <td>Unknown</td>\n",
       "      <td>Unknown</td>\n",
       "      <td>ZYX</td>\n",
       "      <td>0.000000</td>\n",
       "    </tr>\n",
       "    <tr>\n",
       "      <td>17632</td>\n",
       "      <td>0.000296</td>\n",
       "      <td>0.000362</td>\n",
       "      <td>0.000327</td>\n",
       "      <td>-10.826518</td>\n",
       "      <td>-14.760883</td>\n",
       "      <td>0.000095</td>\n",
       "      <td>0.000093</td>\n",
       "      <td>0.000079</td>\n",
       "      <td>-15.256799</td>\n",
       "      <td>3.355386</td>\n",
       "      <td>3.436330</td>\n",
       "      <td>0.419711</td>\n",
       "      <td>Unknown</td>\n",
       "      <td>Unknown</td>\n",
       "      <td>ZZEF1</td>\n",
       "      <td>2.865524</td>\n",
       "    </tr>\n",
       "    <tr>\n",
       "      <td>17633</td>\n",
       "      <td>0.000153</td>\n",
       "      <td>0.000101</td>\n",
       "      <td>0.000217</td>\n",
       "      <td>-3.161925</td>\n",
       "      <td>1.372402</td>\n",
       "      <td>0.000049</td>\n",
       "      <td>0.000026</td>\n",
       "      <td>0.000052</td>\n",
       "      <td>-0.727091</td>\n",
       "      <td>-5.919157</td>\n",
       "      <td>1.774839</td>\n",
       "      <td>-1.719252</td>\n",
       "      <td>Unknown</td>\n",
       "      <td>Unknown</td>\n",
       "      <td>ZZZ3</td>\n",
       "      <td>10.359565</td>\n",
       "    </tr>\n",
       "  </tbody>\n",
       "</table>\n",
       "<p>17634 rows × 16 columns</p>\n",
       "</div>"
      ],
      "text/plain": [
       "           EM_x      EM_y      EM_z     tSNE_x     tSNE_y     hEM_x     hEM_y  \\\n",
       "0      0.000386  0.000528  0.000687 -36.286868  46.840289  0.000124  0.000136   \n",
       "1      0.000372  0.000353  0.000509  -0.026093  39.027340  0.000119  0.000091   \n",
       "2      0.000284  0.000252  0.000120  -5.460029   2.170856  0.000091  0.000065   \n",
       "3      0.000309 -0.025158  0.000982  -7.412075 -30.817777  0.000099 -0.006482   \n",
       "4      0.000343  0.000272  0.000418   3.999725   5.142851  0.000110  0.000070   \n",
       "...         ...       ...       ...        ...        ...       ...       ...   \n",
       "17629  0.000335  0.000303  0.000413 -11.454598 -36.487676  0.000108  0.000078   \n",
       "17630  0.000527 -0.000407  0.000147  41.116041  50.268671  0.000169 -0.000105   \n",
       "17631  0.000089  0.000205  0.000488   0.862270 -23.636117  0.000029  0.000053   \n",
       "17632  0.000296  0.000362  0.000327 -10.826518 -14.760883  0.000095  0.000093   \n",
       "17633  0.000153  0.000101  0.000217  -3.161925   1.372402  0.000049  0.000026   \n",
       "\n",
       "          hEM_z    htSNE_x    htSNE_y   hUMAP_x    hUMAP_y roarke_clusters  \\\n",
       "0      0.000166 -15.135076  55.099715  2.957289   9.025891         Unknown   \n",
       "1      0.000123  38.991786  10.915805  5.869159  -2.235847         Unknown   \n",
       "2      0.000029  -1.451249   1.268335  2.488397  -1.170052         Unknown   \n",
       "3      0.000237   5.171936 -71.515775 -4.953838  14.731494         Unknown   \n",
       "4      0.000101   3.114053  -4.136086  2.570755  -1.473688         Unknown   \n",
       "...         ...        ...        ...       ...        ...             ...   \n",
       "17629  0.000100  -2.493834  12.193343 -0.504605   0.005887         Unknown   \n",
       "17630  0.000035  43.179570  55.526012  7.782668  13.050512         Unknown   \n",
       "17631  0.000118  16.793142 -33.694676  4.512137  -2.932982         Unknown   \n",
       "17632  0.000079 -15.256799   3.355386  3.436330   0.419711         Unknown   \n",
       "17633  0.000052  -0.727091  -5.919157  1.774839  -1.719252         Unknown   \n",
       "\n",
       "      top_enriched_clusters gene_names  max_enrichments  \n",
       "0                   Unknown       A1BG         4.190389  \n",
       "1                   Unknown       A1CF         2.505144  \n",
       "2                   Unknown        A2M         0.000000  \n",
       "3                   Unknown      A2ML1         0.000000  \n",
       "4                   Unknown    A3GALT2         0.000000  \n",
       "...                     ...        ...              ...  \n",
       "17629               Unknown     ZYG11A         0.000000  \n",
       "17630               Unknown     ZYG11B         3.413896  \n",
       "17631               Unknown        ZYX         0.000000  \n",
       "17632               Unknown      ZZEF1         2.865524  \n",
       "17633               Unknown       ZZZ3        10.359565  \n",
       "\n",
       "[17634 rows x 16 columns]"
      ]
     },
     "execution_count": 3,
     "metadata": {},
     "output_type": "execute_result"
    }
   ],
   "source": [
    "plot_data_df = pd.read_csv(app_config.params['plot_data_df_path'][0], sep=\"\\t\", index_col=False)\n",
    "plot_data_df"
   ]
  },
  {
   "cell_type": "code",
   "execution_count": 2,
   "metadata": {},
   "outputs": [],
   "source": [
    "# Load gene embedded coordinates.\n",
    "plot_data_df = pd.read_csv(app_config.params['plot_data_df_path'][0], sep=\"\\t\", index_col=False)\n",
    "# graph_adj = sp.sparse.load_npz(app_config.params['adj_mat_path'])\n",
    "data_ess = pd.read_csv(app_config.params['raw_ess_data_path'], index_col=0, header=0, sep='\\t')\n",
    "data_ess = data_ess[data_ess.columns[:-4]]   # Only first 481 cols put through GLS, so isolate these\n",
    "\n",
    "point_names = np.array(plot_data_df['gene_names'])\n",
    "feat_names = data_ess.columns\n",
    "cancer_types = data_ess.columns.str.split('_').str[1:].str.join(' ').str.capitalize().str.replace('Haematopoietic and lymphoid tissue', 'Hematopoietic/lymphoid')\n",
    "additional_colorvars = []#app_config.params['additional_colorvars']\n",
    "\n",
    "raw_data = data_ess.values"
   ]
  },
  {
   "cell_type": "code",
   "execution_count": 3,
   "metadata": {},
   "outputs": [],
   "source": [
    "gene_names_df2 = pd.read_csv(app_config.params['gene_fullnames_path'], sep=\"\\t\", index_col=False)\n",
    "a = dict(zip(gene_names_df2['symbol'], gene_names_df2['name']))\n",
    "b = dict(zip(gene_names_df2['symbol'], gene_names_df2['ensembl_gene_id']))\n",
    "full_point_names = np.copy(point_names)\n",
    "ens_IDs = np.copy(point_names)\n",
    "\n",
    "for i in range(len(point_names)):\n",
    "    if point_names[i] in a:\n",
    "        full_point_names[i] = a[point_names[i]]\n",
    "        ens_IDs[i] = b[point_names[i]]"
   ]
  },
  {
   "cell_type": "code",
   "execution_count": 9,
   "metadata": {},
   "outputs": [],
   "source": [
    "tmem_geneset = ['PTAR1', \n",
    "'COG7', \n",
    "'COG5', \n",
    "'C10ORF76', \n",
    "'P14KB', \n",
    "'TM9SF2', \n",
    "'COL4A3BP', \n",
    "'SGMS1', \n",
    "'KDSR', \n",
    "'SPTLC1', \n",
    "'SPTLC2', \n",
    "'SPTSSA', \n",
    "'CERS2', \n",
    "'ELOVL1', \n",
    "'TMEM189', \n",
    "'SEC14L1', \n",
    "'GNPAT', \n",
    "'AGPS', \n",
    "'FAR1', \n",
    "'PEX7', \n",
    "'EPT1', \n",
    "'PCYT2']"
   ]
  },
  {
   "cell_type": "code",
   "execution_count": 19,
   "metadata": {},
   "outputs": [
    {
     "data": {
      "text/plain": [
       "20"
      ]
     },
     "execution_count": 19,
     "metadata": {},
     "output_type": "execute_result"
    }
   ],
   "source": [
    "np.sum(np.isin(point_names, tmem_geneset))"
   ]
  },
  {
   "cell_type": "code",
   "execution_count": null,
   "metadata": {},
   "outputs": [],
   "source": []
  },
  {
   "cell_type": "code",
   "execution_count": null,
   "metadata": {},
   "outputs": [],
   "source": []
  },
  {
   "cell_type": "code",
   "execution_count": null,
   "metadata": {},
   "outputs": [],
   "source": []
  },
  {
   "cell_type": "code",
   "execution_count": null,
   "metadata": {},
   "outputs": [],
   "source": []
  },
  {
   "cell_type": "code",
   "execution_count": 32,
   "metadata": {},
   "outputs": [],
   "source": [
    "pd.DataFrame(full_point_names).to_csv(app_config.params['genenames_path'], header=False, index=False)\n",
    "pd.DataFrame(ens_IDs).to_csv(app_config.params['gene_ensID_path'], header=False, index=False)"
   ]
  },
  {
   "cell_type": "code",
   "execution_count": 4,
   "metadata": {},
   "outputs": [
    {
     "name": "stdout",
     "output_type": "stream",
     "text": [
      "0.0004029273986816406\n"
     ]
    },
    {
     "name": "stderr",
     "output_type": "stream",
     "text": [
      "/miniconda3/lib/python3.6/site-packages/IPython/core/interactiveshell.py:3020: DtypeWarning:\n",
      "\n",
      "Columns (3,25,26,27,30,31) have mixed types. Specify dtype option on import or set low_memory=False.\n",
      "\n"
     ]
    },
    {
     "name": "stdout",
     "output_type": "stream",
     "text": [
      "6.214422941207886\n",
      "8.801006078720093\n",
      "23.94826579093933\n"
     ]
    }
   ],
   "source": [
    "itime = time.time()\n",
    "print(time.time() - itime)\n",
    "mutation_df = pd.read_csv(app_config.params['mutation_data_path'], sep=\"\\t\", index_col=False)\n",
    "print(time.time() - itime)\n",
    "shRNA_df = pd.read_csv(app_config.params['shRNA_data_path'], sep=\",\", index_col=0)\n",
    "print(time.time() - itime)\n",
    "expr_df = pd.read_csv(app_config.params['expression_data_path'], sep=\"\\t\", skiprows=2, index_col=False)\n",
    "print(time.time() - itime)"
   ]
  },
  {
   "cell_type": "code",
   "execution_count": 104,
   "metadata": {},
   "outputs": [
    {
     "ename": "TypeError",
     "evalue": "unhashable type: 'slice'",
     "output_type": "error",
     "traceback": [
      "\u001b[0;31m---------------------------------------------------------------------------\u001b[0m",
      "\u001b[0;31mTypeError\u001b[0m                                 Traceback (most recent call last)",
      "\u001b[0;32m<ipython-input-104-e196ac6a58d2>\u001b[0m in \u001b[0;36m<module>\u001b[0;34m\u001b[0m\n\u001b[1;32m      1\u001b[0m \u001b[0mgeneview_data\u001b[0m \u001b[0;34m=\u001b[0m \u001b[0mmutation_df\u001b[0m\u001b[0;34m\u001b[0m\u001b[0;34m\u001b[0m\u001b[0m\n\u001b[0;32m----> 2\u001b[0;31m \u001b[0mmutdata\u001b[0m \u001b[0;34m=\u001b[0m \u001b[0mgeneview_data\u001b[0m\u001b[0;34m[\u001b[0m\u001b[0mgeneview_data\u001b[0m\u001b[0;34m[\u001b[0m\u001b[0;34m:\u001b[0m\u001b[0;34m,\u001b[0m \u001b[0;36m0\u001b[0m\u001b[0;34m]\u001b[0m \u001b[0;34m==\u001b[0m \u001b[0;34m'TP53'\u001b[0m\u001b[0;34m,\u001b[0m \u001b[0;34m:\u001b[0m\u001b[0;34m]\u001b[0m\u001b[0;34m\u001b[0m\u001b[0;34m\u001b[0m\u001b[0m\n\u001b[0m",
      "\u001b[0;32m/miniconda3/lib/python3.6/site-packages/pandas/core/frame.py\u001b[0m in \u001b[0;36m__getitem__\u001b[0;34m(self, key)\u001b[0m\n\u001b[1;32m   2686\u001b[0m             \u001b[0;32mreturn\u001b[0m \u001b[0mself\u001b[0m\u001b[0;34m.\u001b[0m\u001b[0m_getitem_multilevel\u001b[0m\u001b[0;34m(\u001b[0m\u001b[0mkey\u001b[0m\u001b[0;34m)\u001b[0m\u001b[0;34m\u001b[0m\u001b[0;34m\u001b[0m\u001b[0m\n\u001b[1;32m   2687\u001b[0m         \u001b[0;32melse\u001b[0m\u001b[0;34m:\u001b[0m\u001b[0;34m\u001b[0m\u001b[0;34m\u001b[0m\u001b[0m\n\u001b[0;32m-> 2688\u001b[0;31m             \u001b[0;32mreturn\u001b[0m \u001b[0mself\u001b[0m\u001b[0;34m.\u001b[0m\u001b[0m_getitem_column\u001b[0m\u001b[0;34m(\u001b[0m\u001b[0mkey\u001b[0m\u001b[0;34m)\u001b[0m\u001b[0;34m\u001b[0m\u001b[0;34m\u001b[0m\u001b[0m\n\u001b[0m\u001b[1;32m   2689\u001b[0m \u001b[0;34m\u001b[0m\u001b[0m\n\u001b[1;32m   2690\u001b[0m     \u001b[0;32mdef\u001b[0m \u001b[0m_getitem_column\u001b[0m\u001b[0;34m(\u001b[0m\u001b[0mself\u001b[0m\u001b[0;34m,\u001b[0m \u001b[0mkey\u001b[0m\u001b[0;34m)\u001b[0m\u001b[0;34m:\u001b[0m\u001b[0;34m\u001b[0m\u001b[0;34m\u001b[0m\u001b[0m\n",
      "\u001b[0;32m/miniconda3/lib/python3.6/site-packages/pandas/core/frame.py\u001b[0m in \u001b[0;36m_getitem_column\u001b[0;34m(self, key)\u001b[0m\n\u001b[1;32m   2693\u001b[0m         \u001b[0;31m# get column\u001b[0m\u001b[0;34m\u001b[0m\u001b[0;34m\u001b[0m\u001b[0;34m\u001b[0m\u001b[0m\n\u001b[1;32m   2694\u001b[0m         \u001b[0;32mif\u001b[0m \u001b[0mself\u001b[0m\u001b[0;34m.\u001b[0m\u001b[0mcolumns\u001b[0m\u001b[0;34m.\u001b[0m\u001b[0mis_unique\u001b[0m\u001b[0;34m:\u001b[0m\u001b[0;34m\u001b[0m\u001b[0;34m\u001b[0m\u001b[0m\n\u001b[0;32m-> 2695\u001b[0;31m             \u001b[0;32mreturn\u001b[0m \u001b[0mself\u001b[0m\u001b[0;34m.\u001b[0m\u001b[0m_get_item_cache\u001b[0m\u001b[0;34m(\u001b[0m\u001b[0mkey\u001b[0m\u001b[0;34m)\u001b[0m\u001b[0;34m\u001b[0m\u001b[0;34m\u001b[0m\u001b[0m\n\u001b[0m\u001b[1;32m   2696\u001b[0m \u001b[0;34m\u001b[0m\u001b[0m\n\u001b[1;32m   2697\u001b[0m         \u001b[0;31m# duplicate columns & possible reduce dimensionality\u001b[0m\u001b[0;34m\u001b[0m\u001b[0;34m\u001b[0m\u001b[0;34m\u001b[0m\u001b[0m\n",
      "\u001b[0;32m/miniconda3/lib/python3.6/site-packages/pandas/core/generic.py\u001b[0m in \u001b[0;36m_get_item_cache\u001b[0;34m(self, item)\u001b[0m\n\u001b[1;32m   2485\u001b[0m         \u001b[0;34m\"\"\"Return the cached item, item represents a label indexer.\"\"\"\u001b[0m\u001b[0;34m\u001b[0m\u001b[0;34m\u001b[0m\u001b[0m\n\u001b[1;32m   2486\u001b[0m         \u001b[0mcache\u001b[0m \u001b[0;34m=\u001b[0m \u001b[0mself\u001b[0m\u001b[0;34m.\u001b[0m\u001b[0m_item_cache\u001b[0m\u001b[0;34m\u001b[0m\u001b[0;34m\u001b[0m\u001b[0m\n\u001b[0;32m-> 2487\u001b[0;31m         \u001b[0mres\u001b[0m \u001b[0;34m=\u001b[0m \u001b[0mcache\u001b[0m\u001b[0;34m.\u001b[0m\u001b[0mget\u001b[0m\u001b[0;34m(\u001b[0m\u001b[0mitem\u001b[0m\u001b[0;34m)\u001b[0m\u001b[0;34m\u001b[0m\u001b[0;34m\u001b[0m\u001b[0m\n\u001b[0m\u001b[1;32m   2488\u001b[0m         \u001b[0;32mif\u001b[0m \u001b[0mres\u001b[0m \u001b[0;32mis\u001b[0m \u001b[0;32mNone\u001b[0m\u001b[0;34m:\u001b[0m\u001b[0;34m\u001b[0m\u001b[0;34m\u001b[0m\u001b[0m\n\u001b[1;32m   2489\u001b[0m             \u001b[0mvalues\u001b[0m \u001b[0;34m=\u001b[0m \u001b[0mself\u001b[0m\u001b[0;34m.\u001b[0m\u001b[0m_data\u001b[0m\u001b[0;34m.\u001b[0m\u001b[0mget\u001b[0m\u001b[0;34m(\u001b[0m\u001b[0mitem\u001b[0m\u001b[0;34m)\u001b[0m\u001b[0;34m\u001b[0m\u001b[0;34m\u001b[0m\u001b[0m\n",
      "\u001b[0;31mTypeError\u001b[0m: unhashable type: 'slice'"
     ]
    }
   ],
   "source": [
    "geneview_data = mutation_df\n",
    "mutdata = geneview_data[geneview_data[:, 0] == 'TP53', :]"
   ]
  },
  {
   "cell_type": "code",
   "execution_count": 105,
   "metadata": {},
   "outputs": [
    {
     "data": {
      "text/plain": [
       "Index(['Hugo_Symbol', 'Entrez_Gene_Id', 'NCBI_Build', 'Chromosome',\n",
       "       'Start_position', 'End_position', 'Strand', 'Variant_Classification',\n",
       "       'Variant_Type', 'Reference_Allele', 'Tumor_Seq_Allele1', 'dbSNP_RS',\n",
       "       'dbSNP_Val_Status', 'Genome_Change', 'Annotation_Transcript',\n",
       "       'Tumor_Sample_Barcode', 'cDNA_Change', 'Codon_Change', 'Protein_Change',\n",
       "       'isDeleterious', 'isTCGAhotspot', 'TCGAhsCnt', 'isCOSMIChotspot',\n",
       "       'COSMIChsCnt', 'ExAC_AF', 'WES_AC', 'SangerWES_AC',\n",
       "       'SangerRecalibWES_AC', 'RNAseq_AC', 'HC_AC', 'RD_AC', 'WGS_AC',\n",
       "       'Broad_ID'],\n",
       "      dtype='object')"
      ]
     },
     "execution_count": 105,
     "metadata": {},
     "output_type": "execute_result"
    }
   ],
   "source": [
    "mutation_df.columns   #[['dbSNP_Val_Status', 'Genome_Change', 'Annotation_Transcript', 'Tumor_Sample_Barcode', 'cDNA_Change', 'Codon_Change', 'Protein_Change', 'isDeleterious', 'isTCGAhotspot', 'TCGAhsCnt', 'isCOSMIChotspot', 'COSMIChsCnt', 'ExAC_AF', 'WES_AC', 'SangerWES_AC']]"
   ]
  },
  {
   "cell_type": "code",
   "execution_count": 71,
   "metadata": {},
   "outputs": [],
   "source": [
    "importlib.reload(app_config)\n",
    "### noexpr_genes = point_names[np.where(~np.isin(point_names, expr_df['Description']))[0]]\n",
    "# expr_arr = np.array(expr_df.iloc[:, 1:])\n",
    "# arr_ndces = np.isin(expr_arr[:,0], point_names)\n",
    "# np.save(app_config.params['expression_arr_path'], expr_arr[arr_ndces,:])\n",
    "# np.save(app_config.params['expression_cell_lines_path'], [c.split(' (ACH')[0] for c in expr_df.columns[2:]])\n",
    "# expr_arr = np.load(app_config.params['expression_arr_path'])\n",
    "# expr_cell_lines = np.load(app_config.params['expression_cell_lines_path'])\n",
    "# np.save(app_config.params['expression_arr_path'], np.vstack((np.array(['Gene'] + list(expr_cell_lines)), expr_arr)))"
   ]
  },
  {
   "cell_type": "code",
   "execution_count": 85,
   "metadata": {},
   "outputs": [],
   "source": [
    "#expr_arr = np.load(app_config.params['expression_arr_path'])\n",
    "exprdata_celllines = expr_arr[0, :]#[expr_arr[:, 0] == 'TP53', :]"
   ]
  },
  {
   "cell_type": "code",
   "execution_count": 87,
   "metadata": {},
   "outputs": [
    {
     "data": {
      "text/plain": [
       "array(['T24_URINARY_TRACT', 0.0, 0.0, ..., 6.9847, 0.0, 3.97005],\n",
       "      dtype=object)"
      ]
     },
     "execution_count": 87,
     "metadata": {},
     "output_type": "execute_result"
    }
   ],
   "source": [
    "np.array(expr_arr[:, exprdata_celllines == 'T24_URINARY_TRACT']).flatten()"
   ]
  },
  {
   "cell_type": "code",
   "execution_count": 131,
   "metadata": {},
   "outputs": [
    {
     "data": {
      "text/plain": [
       "(56318,)"
      ]
     },
     "execution_count": 131,
     "metadata": {},
     "output_type": "execute_result"
    }
   ],
   "source": [
    "row_ndces = []\n",
    "for g in point_names:\n",
    "    if g in expr_df['Description']:\n",
    "        row_ndces.append(np.where(expr_df['Description'] == g)[0][0])\n",
    "col_ndces = []\n",
    "for g in feat_names:\n",
    "    if g in expr_df['Description']:\n",
    "        col_ndces.append(np.where(expr_df['Description'] == g)[0][0])"
   ]
  },
  {
   "cell_type": "code",
   "execution_count": 97,
   "metadata": {},
   "outputs": [],
   "source": [
    "nornai_feats = feat_names[np.where(~np.isin(feat_names, shRNA_df.columns))[0]]\n",
    "nornai_genes = point_names[np.where(~np.isin(point_names, [c.split(' (')[0] for c in shRNA_df.index]))[0]]"
   ]
  },
  {
   "cell_type": "code",
   "execution_count": 106,
   "metadata": {},
   "outputs": [],
   "source": [
    "# Save an abbreviated version of the mutation data, for speed reasons.\n",
    "mutation_arr = np.array(mutation_df[['Hugo_Symbol', 'Chromosome', 'Start_position', 'End_position', 'Variant_Classification', 'Variant_Type', \n",
    "                                     'Tumor_Sample_Barcode', 'isDeleterious', 'isTCGAhotspot', 'isCOSMIChotspot', 'Codon_Change', 'Protein_Change']])\n",
    "np.save(app_config.params['mutation_arr_path'], mutation_arr)"
   ]
  },
  {
   "cell_type": "code",
   "execution_count": 114,
   "metadata": {},
   "outputs": [
    {
     "data": {
      "text/plain": [
       "array([['17', 7576854, 'Splice_Site', 'c.(991-993)cAg>cGg', 'p.Q331R'],\n",
       "       ['17', 7577120, 'Missense_Mutation', 'c.(817-819)cGt>cAt',\n",
       "        'p.R273H'],\n",
       "       ['17', 7577536, 'Missense_Mutation', 'c.(745-747)Agg>Ggg',\n",
       "        'p.R249G'],\n",
       "       ...,\n",
       "       ['17', 7577150, 'Splice_Site', 'c.(781-789)aggtagtgg>agg',\n",
       "        'p.*W262fs'],\n",
       "       ['17', 7578479, 'Frame_Shift_Del', 'c.(448-453)acacccfs',\n",
       "        'p.P153fs'],\n",
       "       ['17', 7578483, 'Frame_Shift_Del', 'c.(445-447)tccfs', 'p.S149fs']],\n",
       "      dtype=object)"
      ]
     },
     "execution_count": 114,
     "metadata": {},
     "output_type": "execute_result"
    }
   ],
   "source": [
    "mutdata = mutation_arr[mutation_arr[:, 0] == 'TP53', :]\n",
    "mutdata[:, [1,2,4,10,11]]\n",
    "#where_mutations = np.isin(feat_names, xd)"
   ]
  },
  {
   "cell_type": "code",
   "execution_count": 83,
   "metadata": {},
   "outputs": [],
   "source": [
    "query_results = mutdata[(mutdata[:, 6] == feat_names[143]), :]\n",
    "qwe = [\"chr{}:{}    {}\".format(\n",
    "    query_results[i, 1], query_results[i, 2], query_results[i, 4]\n",
    "    #, query_results[i, 7], query_results[i, 8], query_results[i, 9]\n",
    ") for i in range(query_results.shape[0])]"
   ]
  },
  {
   "cell_type": "code",
   "execution_count": 23,
   "metadata": {},
   "outputs": [
    {
     "data": {
      "text/plain": [
       "(331,)"
      ]
     },
     "execution_count": 23,
     "metadata": {},
     "output_type": "execute_result"
    }
   ],
   "source": [
    "gvdata = np.zeros_like(feat_names)\n",
    "for i in range(len(feat_names)):\n",
    "    if where_mutations[i]:\n",
    "        gvdata[i] = \n",
    "# gvdata[np.isin(feat_names, xd)]"
   ]
  },
  {
   "cell_type": "markdown",
   "metadata": {},
   "source": [
    "# GO enrichment"
   ]
  },
  {
   "cell_type": "code",
   "execution_count": 46,
   "metadata": {},
   "outputs": [
    {
     "name": "stderr",
     "output_type": "stream",
     "text": [
      "  wget.download(ftp://ftp.ncbi.nlm.nih.gov/gene/DATA/gene2go.gz out=gene2go.gz)\n"
     ]
    },
    {
     "name": "stdout",
     "output_type": "stream",
     "text": [
      "  gunzip gene2go.gz\n",
      "  18,069 items READ: gene2go\n"
     ]
    }
   ],
   "source": [
    "from goatools.associations import read_ncbi_gene2go\n",
    "from goatools.base import download_ncbi_associations\n",
    "# Get ftp://ftp.ncbi.nlm.nih.gov/gene/DATA/gene2go.gz\n",
    "gene2go = download_ncbi_associations()\n",
    "go2geneids_human = read_ncbi_gene2go(\"gene2go\", taxids=[9606], go2geneids=True)\n",
    "\n",
    "from goatools.go_search import GoSearch\n",
    "go2geneids_human = read_ncbi_gene2go(\"/Users/akshay/github/coessentiality-browser/gene2go\", taxids=[9606], go2geneids=True)\n",
    "srchhelp = GoSearch(\"data/go-basic.obo\", go2items=go2geneids_human)"
   ]
  },
  {
   "cell_type": "code",
   "execution_count": 102,
   "metadata": {},
   "outputs": [
    {
     "name": "stdout",
     "output_type": "stream",
     "text": [
      "\n",
      "PATTERN SEARCH: \"0000003\"\n",
      "MATCH GO:0030509(BMP signaling pathway) defn: \"A series of molecular signals initiated by the binding of a member of the BMP (bone morphogenetic protein) family to a receptor on the surface of a target cell, and ending with regulation of a downstream cellular process, e.g. transcription.\" [GOC:signaling, ISBN:0878932437, PR:000000034]\n",
      "MATCH GO:0036122(BMP binding) defn: \"Interacting selectively and non-covalently with a member of the bone morphogenetic protein (BMP) family.\" [GOC:BHF, PMID:9660951, PR:000000034]\n",
      "Found 2 GO(s) out of 18069 matching pattern(\"0000003\")\n"
     ]
    }
   ],
   "source": [
    "gos = srchhelp.get_matching_gos(re.compile('0000003'))\n",
    "mn = srchhelp.get_items(gos)\n",
    "\n",
    "from goatools.test_data.genes_NCBI_9606_ProteinCoding import GENEID2NT"
   ]
  },
  {
   "cell_type": "code",
   "execution_count": 121,
   "metadata": {},
   "outputs": [
    {
     "name": "stdout",
     "output_type": "stream",
     "text": [
      "data/go-basic.obo: fmt(1.2) rel(2018-09-19) 47,343 GO Terms\n"
     ]
    }
   ],
   "source": [
    "from goatools import obo_parser\n",
    "go_obo = 'data/go-basic.obo'\n",
    "go = obo_parser.GODag(go_obo)\n",
    "gotermIDs = []\n",
    "gotermnames = []\n",
    "for go_term in go.values():\n",
    "    gotermIDs.append(str(go_term.id))\n",
    "    gotermnames.append(str(go_term.name))"
   ]
  },
  {
   "cell_type": "code",
   "execution_count": 122,
   "metadata": {},
   "outputs": [],
   "source": [
    "np.save('gotermIDs.npy', np.array(gotermIDs))    \n",
    "np.save('gotermnames.npy', np.array(gotermnames))\n"
   ]
  },
  {
   "cell_type": "code",
   "execution_count": 67,
   "metadata": {},
   "outputs": [
    {
     "ename": "AttributeError",
     "evalue": "'NoneType' object has no attribute 'name'",
     "output_type": "error",
     "traceback": [
      "\u001b[0;31m---------------------------------------------------------------------------\u001b[0m",
      "\u001b[0;31mAttributeError\u001b[0m                            Traceback (most recent call last)",
      "\u001b[0;32m<ipython-input-67-ef6db9826417>\u001b[0m in \u001b[0;36m<module>\u001b[0;34m\u001b[0m\n\u001b[1;32m      1\u001b[0m \u001b[0;32mimport\u001b[0m \u001b[0mgoterm_caller\u001b[0m\u001b[0;34m\u001b[0m\u001b[0;34m\u001b[0m\u001b[0m\n\u001b[0;32m----> 2\u001b[0;31m \u001b[0mimportlib\u001b[0m\u001b[0;34m.\u001b[0m\u001b[0mreload\u001b[0m\u001b[0;34m(\u001b[0m\u001b[0mgprofiler_caller\u001b[0m\u001b[0;34m)\u001b[0m\u001b[0;34m\u001b[0m\u001b[0;34m\u001b[0m\u001b[0m\n\u001b[0m\u001b[1;32m      3\u001b[0m \u001b[0mgprofiler_caller\u001b[0m\u001b[0;34m.\u001b[0m\u001b[0mgprofiler\u001b[0m\u001b[0;34m(\u001b[0m\u001b[0;34m[\u001b[0m\u001b[0;34m'GO:0098727'\u001b[0m\u001b[0;34m]\u001b[0m\u001b[0;34m,\u001b[0m \u001b[0mmode\u001b[0m\u001b[0;34m=\u001b[0m\u001b[0;34m'gconvert'\u001b[0m\u001b[0;34m)\u001b[0m\u001b[0;34m\u001b[0m\u001b[0;34m\u001b[0m\u001b[0m\n",
      "\u001b[0;32m/miniconda3/lib/python3.6/importlib/__init__.py\u001b[0m in \u001b[0;36mreload\u001b[0;34m(module)\u001b[0m\n\u001b[1;32m    164\u001b[0m         \u001b[0mtarget\u001b[0m \u001b[0;34m=\u001b[0m \u001b[0mmodule\u001b[0m\u001b[0;34m\u001b[0m\u001b[0;34m\u001b[0m\u001b[0m\n\u001b[1;32m    165\u001b[0m         \u001b[0mspec\u001b[0m \u001b[0;34m=\u001b[0m \u001b[0mmodule\u001b[0m\u001b[0;34m.\u001b[0m\u001b[0m__spec__\u001b[0m \u001b[0;34m=\u001b[0m \u001b[0m_bootstrap\u001b[0m\u001b[0;34m.\u001b[0m\u001b[0m_find_spec\u001b[0m\u001b[0;34m(\u001b[0m\u001b[0mname\u001b[0m\u001b[0;34m,\u001b[0m \u001b[0mpkgpath\u001b[0m\u001b[0;34m,\u001b[0m \u001b[0mtarget\u001b[0m\u001b[0;34m)\u001b[0m\u001b[0;34m\u001b[0m\u001b[0;34m\u001b[0m\u001b[0m\n\u001b[0;32m--> 166\u001b[0;31m         \u001b[0m_bootstrap\u001b[0m\u001b[0;34m.\u001b[0m\u001b[0m_exec\u001b[0m\u001b[0;34m(\u001b[0m\u001b[0mspec\u001b[0m\u001b[0;34m,\u001b[0m \u001b[0mmodule\u001b[0m\u001b[0;34m)\u001b[0m\u001b[0;34m\u001b[0m\u001b[0;34m\u001b[0m\u001b[0m\n\u001b[0m\u001b[1;32m    167\u001b[0m         \u001b[0;31m# The module may have replaced itself in sys.modules!\u001b[0m\u001b[0;34m\u001b[0m\u001b[0;34m\u001b[0m\u001b[0;34m\u001b[0m\u001b[0m\n\u001b[1;32m    168\u001b[0m         \u001b[0;32mreturn\u001b[0m \u001b[0msys\u001b[0m\u001b[0;34m.\u001b[0m\u001b[0mmodules\u001b[0m\u001b[0;34m[\u001b[0m\u001b[0mname\u001b[0m\u001b[0;34m]\u001b[0m\u001b[0;34m\u001b[0m\u001b[0;34m\u001b[0m\u001b[0m\n",
      "\u001b[0;32m/miniconda3/lib/python3.6/importlib/_bootstrap.py\u001b[0m in \u001b[0;36m_exec\u001b[0;34m(spec, module)\u001b[0m\n",
      "\u001b[0;31mAttributeError\u001b[0m: 'NoneType' object has no attribute 'name'"
     ]
    }
   ],
   "source": [
    "import goterm_caller\n",
    "importlib.reload(gprofiler_caller)\n",
    "gprofiler_caller.gprofiler(['GO:0000003'], mode='gconvert')\n",
    "g = goterm_caller.gprofiler(['Klf4', 'Pax5', 'Sox2', 'Nanog', 'Jund', 'Max'])\n",
    "g"
   ]
  },
  {
   "cell_type": "code",
   "execution_count": 57,
   "metadata": {},
   "outputs": [
    {
     "data": {
      "text/plain": [
       "{'Autonomic ganglia': '#f7ff00',\n",
       " 'Biliary tract': '#fabebe',\n",
       " 'Bone': '#ff8300',\n",
       " 'Breast': '#f000ff',\n",
       " 'Central nervous system': '#74ee15',\n",
       " 'Cervix': '#4363d8',\n",
       " 'Endometrium': '#001eff',\n",
       " 'Hematopoietic/lymphoid': '#ff3300',\n",
       " 'Kidney': '#cab2d6',\n",
       " 'Large intestine': '#008080',\n",
       " 'Liver': '#808000',\n",
       " 'Lung': '#bcf60c',\n",
       " 'Oesophagus': '#bec1d4',\n",
       " 'Ovary': '#fb9a99',\n",
       " 'Pancreas': '#ffd8b1',\n",
       " 'Pleura': '#3cb44b',\n",
       " 'Skin': '#bc5300',\n",
       " 'Soft tissue': '#ffe119',\n",
       " 'Stomach': '#33ccff',\n",
       " 'Thyroid': '#911eb4',\n",
       " 'Upper aerodigestive tract': '#46f0f0',\n",
       " 'Urinary tract': '#d220c8'}"
      ]
     },
     "execution_count": 57,
     "metadata": {},
     "output_type": "execute_result"
    }
   ],
   "source": [
    "ctypes = [x for x in np.unique(cancer_types)]\n",
    "colorlist = [\"#f7ff00\",\"#fabebe\",\"#ff8300\",\"#f000ff\",\"#74ee15\",\"#4363d8\",\"#001eff\",\"#ff3300\",\"#cab2d6\",\"#008080\",\"#808000\",\"#bcf60c\",\"#bec1d4\",\"#fb9a99\",\"#ffd8b1\",\"#3cb44b\",\"#bc5300\",\"#ffe119\",\"#33ccff\",\"#911eb4\",\"#46f0f0\",\"#d220c8\",\"#e6beff\",\"#e6194b\",\"#aaffc3\",\"#000075\"]\n",
    "dict([x for x in zip(ctypes, colorlist[0:len(ctypes)])])"
   ]
  },
  {
   "cell_type": "markdown",
   "metadata": {},
   "source": [
    "# Layout of the graph\n",
    "## coess_plotter to build the constituent graphs"
   ]
  },
  {
   "cell_type": "code",
   "execution_count": 6,
   "metadata": {},
   "outputs": [
    {
     "ename": "NameError",
     "evalue": "name '_data_path' is not defined",
     "output_type": "error",
     "traceback": [
      "\u001b[0;31m---------------------------------------------------------------------------\u001b[0m",
      "\u001b[0;31mNameError\u001b[0m                                 Traceback (most recent call last)",
      "\u001b[0;32m<ipython-input-6-5a00fd8042a6>\u001b[0m in \u001b[0;36m<module>\u001b[0;34m\u001b[0m\n\u001b[1;32m      2\u001b[0m for dparam in ['0.2', '0.5', '0.8', '0.9', '0.95', '0.99', \n\u001b[1;32m      3\u001b[0m                '0.8_batch_corrected', '0.9_batch_corrected', '0.95_batch_corrected', '0.99_batch_corrected']:\n\u001b[0;32m----> 4\u001b[0;31m     \u001b[0mgm_inc\u001b[0m \u001b[0;34m=\u001b[0m \u001b[0msp\u001b[0m\u001b[0;34m.\u001b[0m\u001b[0msparse\u001b[0m\u001b[0;34m.\u001b[0m\u001b[0mload_npz\u001b[0m\u001b[0;34m(\u001b[0m\u001b[0m_data_path\u001b[0m \u001b[0;34m+\u001b[0m \u001b[0;34m'CO_d_{}_10NN.npz'\u001b[0m\u001b[0;34m.\u001b[0m\u001b[0mformat\u001b[0m\u001b[0;34m(\u001b[0m\u001b[0mdparam\u001b[0m\u001b[0;34m)\u001b[0m\u001b[0;34m)\u001b[0m\u001b[0;34m\u001b[0m\u001b[0;34m\u001b[0m\u001b[0m\n\u001b[0m\u001b[1;32m      5\u001b[0m     \u001b[0madj_mat\u001b[0m \u001b[0;34m=\u001b[0m \u001b[0msp\u001b[0m\u001b[0;34m.\u001b[0m\u001b[0msparse\u001b[0m\u001b[0;34m.\u001b[0m\u001b[0mcsr_matrix\u001b[0m\u001b[0;34m(\u001b[0m\u001b[0;34m(\u001b[0m\u001b[0;36m0.99\u001b[0m \u001b[0;34m*\u001b[0m \u001b[0mgm_inc\u001b[0m\u001b[0;34m)\u001b[0m \u001b[0;34m+\u001b[0m \u001b[0;34m(\u001b[0m\u001b[0;36m0.01\u001b[0m \u001b[0;34m*\u001b[0m \u001b[0mGLS_pvals_10\u001b[0m\u001b[0;34m)\u001b[0m\u001b[0;34m)\u001b[0m\u001b[0;34m\u001b[0m\u001b[0;34m\u001b[0m\u001b[0m\n\u001b[1;32m      6\u001b[0m     \u001b[0mn_cmps\u001b[0m \u001b[0;34m=\u001b[0m \u001b[0;36m100\u001b[0m\u001b[0;34m\u001b[0m\u001b[0;34m\u001b[0m\u001b[0m\n",
      "\u001b[0;31mNameError\u001b[0m: name '_data_path' is not defined"
     ]
    }
   ],
   "source": [
    "itime = time.time()\n",
    "for dparam in ['0.2', '0.5', '0.8', '0.9', '0.95', '0.99', \n",
    "               '0.8_batch_corrected', '0.9_batch_corrected', '0.95_batch_corrected', '0.99_batch_corrected']:\n",
    "    gm_inc = sp.sparse.load_npz(_data_path + 'CO_d_{}_10NN.npz'.format(dparam))\n",
    "    adj_mat = sp.sparse.csr_matrix((0.99 * gm_inc) + (0.01 * GLS_pvals_10))\n",
    "    n_cmps = 100\n",
    "    reduced_dim = 50\n",
    "    vizdf_filename = _data_path + \"vizdf_GLS01_CO99_d_{}.csv\".format(dparam)\n",
    "\n",
    "    # Create different eigenmaps: unweighted naive, and weighted diffmap\n",
    "    emap_naive, eigvals = dm.diffmap_proj(adj_mat, t=0, n_comps=reduced_dim, embed_type='naive', return_eigvals=True)\n",
    "    print(\"Laplacian eigenmap computed. Time: {}\".format(time.time() - itime))\n",
    "    emap_heat = dm.diffmap_proj(adj_mat, n_comps=n_cmps, n_dims=reduced_dim, min_energy_frac=0.9, embed_type='diffmap', return_eigvals=False)\n",
    "    print(\"Diffusion components computed. Time: {}\".format(time.time() - itime))\n",
    "    \n",
    "    ann_naive = adata.AnnData(X=emap_naive[:, :40])\n",
    "    ann_heat = adata.AnnData(X=emap_heat[:, :40])\n",
    "    \n",
    "#     sc.tl.tsne(ann_heat, use_rep='X')#, perplexity=30)\n",
    "#     print(time.time() - itime)\n",
    "#     sc.tl.tsne(ann_naive, use_rep='X')\n",
    "#     print(time.time() - itime)\n",
    "    \n",
    "    sc.pp.neighbors(ann_heat)\n",
    "    print(time.time() - itime)\n",
    "    \n",
    "    itime = time.time()\n",
    "    heat_umap = umap.UMAP().fit_transform(ann_heat.X)\n",
    "    print(time.time() - itime)\n",
    "    \n",
    "#     naive_dm = emap_naive[:, :3].copy()\n",
    "#     naive_tSNE = np.array(ann_naive.obsm['X_tsne'])\n",
    "#     heat_dm = emap_heat[:, :3].copy()\n",
    "#     heat_tSNE = np.array(ann_heat.obsm['X_tsne'])\n",
    "\n",
    "    vizdf = pd.DataFrame(\n",
    "        data=heat_umap, #np.hstack((# naive_dm, naive_tSNE, heat_dm, heat_tSNE, )), \n",
    "        columns=['hUMAP_x', 'hUMAP_y'], dtype='object')\n",
    "    vizdf['gene_names'] = gene_names\n",
    "    vizdf.to_csv(vizdf_filename, sep=\"\\t\", index=False)"
   ]
  },
  {
   "cell_type": "code",
   "execution_count": null,
   "metadata": {},
   "outputs": [],
   "source": []
  }
 ],
 "metadata": {
  "anaconda-cloud": {},
  "kernelspec": {
   "display_name": "Python 3",
   "language": "python",
   "name": "python3"
  },
  "language_info": {
   "codemirror_mode": {
    "name": "ipython",
    "version": 3
   },
   "file_extension": ".py",
   "mimetype": "text/x-python",
   "name": "python",
   "nbconvert_exporter": "python",
   "pygments_lexer": "ipython3",
   "version": "3.7.4"
  }
 },
 "nbformat": 4,
 "nbformat_minor": 4
}
