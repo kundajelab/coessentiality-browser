{
 "cells": [
  {
   "cell_type": "code",
   "execution_count": 2,
   "metadata": {},
   "outputs": [],
   "source": [
    "import numpy as np, pandas as pd, time, os, subprocess, scipy as sp, re, seaborn as sns\n",
    "import app_config, importlib, app_lib\n",
    "import diffmap as dm\n",
    "from sklearn.metrics.pairwise import euclidean_distances\n",
    "\n",
    "# plot_data_df = all_data.obs\n",
    "# plot_data_df[app_config.params['display_coordinates']['x']] = all_data.obsm['X_umap'][:,0]\n",
    "# plot_data_df[app_config.params['display_coordinates']['y']] = all_data.obsm['X_umap'][:,1]"
   ]
  },
  {
   "cell_type": "code",
   "execution_count": 3,
   "metadata": {},
   "outputs": [
    {
     "ename": "NameError",
     "evalue": "name '_data_path' is not defined",
     "output_type": "error",
     "traceback": [
      "\u001b[0;31m---------------------------------------------------------------------------\u001b[0m",
      "\u001b[0;31mNameError\u001b[0m                                 Traceback (most recent call last)",
      "\u001b[0;32m<ipython-input-3-fb62a8465dd9>\u001b[0m in \u001b[0;36m<module>\u001b[0;34m\u001b[0m\n\u001b[0;32m----> 1\u001b[0;31m \u001b[0m_data_path\u001b[0m\u001b[0;34m\u001b[0m\u001b[0;34m\u001b[0m\u001b[0m\n\u001b[0m",
      "\u001b[0;31mNameError\u001b[0m: name '_data_path' is not defined"
     ]
    }
   ],
   "source": [
    "_data_path"
   ]
  },
  {
   "cell_type": "markdown",
   "metadata": {},
   "source": [
    "# STRING v11 data"
   ]
  },
  {
   "cell_type": "code",
   "execution_count": 127,
   "metadata": {},
   "outputs": [
    {
     "data": {
      "text/plain": [
       "<module 'app_config' from '/Users/akshay/github/coessentiality-browser/app_config.py'>"
      ]
     },
     "execution_count": 127,
     "metadata": {},
     "output_type": "execute_result"
    }
   ],
   "source": [
    "importlib.reload(app_config)\n",
    "string_protein_names_df = pd.read_csv(app_config.params['string_ppi_names_path'], sep=\"\\t\", index_col=False)\n",
    "protein_names_ndces = string_protein_names_df['protein_external_id']\n",
    "prot_names_to_ndces = dict(zip(protein_names_ndces.values, protein_names_ndces.index))"
   ]
  },
  {
   "cell_type": "code",
   "execution_count": 60,
   "metadata": {},
   "outputs": [
    {
     "name": "stdout",
     "output_type": "stream",
     "text": [
      "Network loaded. Time: 7.410933017730713\n",
      "Protein indices replaced. Time: 14.084905862808228\n"
     ]
    }
   ],
   "source": [
    "itime = time.time()\n",
    "string_network_df = pd.read_csv(app_config.params['string_ppi_network_path'], sep=\" \", index_col=False)\n",
    "print(\"Network loaded. Time: {}\".format(time.time() - itime))\n",
    "\n",
    "p1s = string_network_df['protein1'].values\n",
    "p2s = string_network_df['protein2'].values\n",
    "col1 = np.zeros_like(p1s)\n",
    "col2 = np.zeros_like(p2s)\n",
    "\n",
    "for d in range(len(p1s)):\n",
    "    col1[d] = prot_names_to_ndces[p1s[d]]\n",
    "    col2[d] = prot_names_to_ndces[p2s[d]]\n",
    "\n",
    "string_network_df['protein1'] = col1\n",
    "string_network_df['protein2'] = col2\n",
    "print(\"Protein indices replaced. Time: {}\".format(time.time() - itime))\n",
    "\n",
    "string_data = string_network_df.values[:, 2].astype(int)\n",
    "string_row = string_network_df.values[:, 0].astype(int)\n",
    "string_col = string_network_df.values[:, 1].astype(int)\n",
    "string_network_mat = sp.sparse.coo_matrix((string_data, (string_row, string_col)), shape=(len(protein_names_ndces), len(protein_names_ndces)))\n",
    "sp.sparse.save_npz(app_config.params['string_ppi_matrix_path'], string_network_mat)"
   ]
  },
  {
   "cell_type": "code",
   "execution_count": 13,
   "metadata": {},
   "outputs": [
    {
     "data": {
      "text/plain": [
       "<19566x19566 sparse matrix of type '<class 'numpy.int64'>'\n",
       "\twith 11759454 stored elements in Compressed Sparse Row format>"
      ]
     },
     "execution_count": 13,
     "metadata": {},
     "output_type": "execute_result"
    }
   ],
   "source": [
    "string_network_mat = sp.sparse.load_npz(app_config.params['string_ppi_matrix_path']).tocsr()\n",
    "new_string_mat = sp.sparse.csr_matrix((len(point_names), len(point_names)))\n",
    "string_mat = sp.sparse.csr_matrix((string_network_mat.shape[0]+1, string_network_mat.shape[0]+1))\n",
    "string_mat[:string_network_mat.shape[0], :string_network_mat.shape[0]] = string_network_mat"
   ]
  },
  {
   "cell_type": "code",
   "execution_count": 52,
   "metadata": {},
   "outputs": [],
   "source": [
    "strnames = string_protein_names_df['preferred_name']"
   ]
  },
  {
   "cell_type": "code",
   "execution_count": 79,
   "metadata": {},
   "outputs": [
    {
     "name": "stdout",
     "output_type": "stream",
     "text": [
      "0\n",
      "1000\n",
      "2000\n",
      "3000\n",
      "4000\n",
      "5000\n",
      "6000\n",
      "7000\n",
      "8000\n",
      "9000\n",
      "10000\n",
      "11000\n",
      "12000\n",
      "13000\n",
      "14000\n",
      "15000\n",
      "16000\n",
      "17000\n"
     ]
    }
   ],
   "source": [
    "coess_to_string = []\n",
    "for i in range(new_string_mat.shape[0]):\n",
    "    ndces_found = np.where(strnames == point_names[i])[0]\n",
    "    if len(ndces_found) > 0:\n",
    "        coess_to_string.append(ndces_found[0])\n",
    "    else:\n",
    "        coess_to_string.append(len(strnames))\n",
    "    if i%1000 == 0:\n",
    "        print(i)"
   ]
  },
  {
   "cell_type": "code",
   "execution_count": 91,
   "metadata": {},
   "outputs": [],
   "source": [
    "sp.sparse.save_npz(app_config.params['string_matrix_ascoess_path'], string_mat[np.array(coess_to_string), :][:, np.array(coess_to_string)])"
   ]
  },
  {
   "cell_type": "markdown",
   "metadata": {},
   "source": [
    "# Cheng et al. Nat Comm. 2019 data\n",
    "## Entrez IDs downloaded from https://www.genenames.org/download/custom/"
   ]
  },
  {
   "cell_type": "code",
   "execution_count": 74,
   "metadata": {},
   "outputs": [],
   "source": [
    "entrez_cheng_df = pd.read_excel('data/41467_2019_9186_MOESM3_ESM.xlsx')\n",
    "entrez_IDs_df = pd.read_csv('data/hugo_entrez_ids.tsv', sep=\"\\t\", index_col=False)\n",
    "entrez_to_genename = dict(entrez_IDs_df[['NCBI Gene ID', 'Approved symbol']].values)"
   ]
  },
  {
   "cell_type": "code",
   "execution_count": 76,
   "metadata": {},
   "outputs": [],
   "source": [
    "plot_data_df = pd.read_csv(app_config.params['plot_data_df_path'][0], sep=\"\\t\", index_col=False)\n",
    "point_names = np.array(plot_data_df['gene_names'])"
   ]
  },
  {
   "cell_type": "code",
   "execution_count": 99,
   "metadata": {},
   "outputs": [
    {
     "name": "stdout",
     "output_type": "stream",
     "text": [
      "0 1 0.010242700576782227\n",
      "1000 992 1.8789348602294922\n",
      "2000 1983 3.7964179515838623\n",
      "3000 2980 5.759443998336792\n",
      "4000 3976 7.312947988510132\n",
      "5000 4970 8.94202971458435\n",
      "6000 5957 10.913097858428955\n",
      "7000 6952 12.677075862884521\n",
      "8000 7946 14.367710828781128\n",
      "9000 8941 16.24048686027527\n",
      "10000 9937 18.12824773788452\n",
      "11000 10926 19.397721767425537\n",
      "12000 11919 21.26417589187622\n",
      "13000 12913 23.408305883407593\n",
      "14000 13909 24.98733901977539\n",
      "15000 14904 26.5570228099823\n",
      "16000 15902 28.422478675842285\n",
      "17000 16897 30.2503559589386\n",
      "18000 17893 32.00580191612244\n",
      "19000 18886 33.74929690361023\n",
      "20000 19880 35.75053691864014\n",
      "21000 20871 37.60000777244568\n",
      "22000 21864 39.51102590560913\n",
      "23000 22857 41.30736470222473\n",
      "24000 23852 43.1773738861084\n",
      "25000 24834 44.972580671310425\n",
      "26000 25830 46.97437000274658\n",
      "27000 26824 48.9245069026947\n",
      "28000 27823 51.01590299606323\n",
      "29000 28821 52.89437794685364\n",
      "30000 29816 54.78169798851013\n",
      "31000 30809 56.619364738464355\n",
      "32000 31807 58.36479091644287\n",
      "33000 32803 60.26641273498535\n",
      "34000 33795 62.11792469024658\n",
      "35000 34789 64.10710501670837\n",
      "36000 35783 65.9521598815918\n",
      "37000 36778 67.95345568656921\n",
      "38000 37775 69.847336769104\n",
      "39000 38746 71.72137498855591\n",
      "40000 39736 73.73609972000122\n",
      "41000 40729 75.62776684761047\n",
      "42000 41727 77.22089791297913\n",
      "43000 42718 78.85583281517029\n",
      "44000 43704 80.63034701347351\n",
      "45000 44699 82.49506998062134\n",
      "46000 45694 84.31092500686646\n",
      "47000 46688 86.19214487075806\n",
      "48000 47682 88.107656955719\n",
      "49000 48679 90.1976318359375\n",
      "50000 49671 91.8519868850708\n",
      "51000 50668 93.8107099533081\n",
      "52000 51662 95.82654166221619\n",
      "53000 52656 97.65152478218079\n",
      "54000 53651 99.686940908432\n",
      "55000 54640 101.54419565200806\n",
      "56000 55632 103.49506688117981\n",
      "57000 56623 105.40112376213074\n",
      "58000 57417 106.96832370758057\n",
      "59000 58411 108.93361282348633\n",
      "60000 59388 110.74643993377686\n",
      "61000 60385 112.41324281692505\n",
      "62000 61377 114.33949685096741\n",
      "63000 62375 116.44675302505493\n",
      "64000 63368 118.63209080696106\n",
      "65000 64340 120.70623588562012\n",
      "66000 65336 122.68982291221619\n",
      "67000 66335 124.58475375175476\n",
      "68000 67329 126.27791094779968\n",
      "69000 68321 128.1275188922882\n",
      "70000 69315 130.05053067207336\n",
      "71000 70311 131.96002578735352\n",
      "72000 71307 133.67877197265625\n",
      "73000 72306 135.8994119167328\n",
      "74000 73296 138.03042578697205\n",
      "75000 74291 140.1016948223114\n",
      "76000 75282 142.03547382354736\n",
      "77000 76279 143.76747179031372\n",
      "78000 77272 145.4102487564087\n",
      "79000 78269 147.30107069015503\n",
      "80000 79264 149.12936782836914\n",
      "81000 80244 150.9300627708435\n",
      "82000 81234 152.9266219139099\n",
      "83000 82230 155.04546189308167\n",
      "84000 83223 156.9678099155426\n",
      "85000 84220 159.12399983406067\n",
      "86000 85187 161.00124073028564\n",
      "87000 86179 163.02272200584412\n",
      "88000 87167 164.8004117012024\n",
      "89000 88163 166.6162507534027\n",
      "90000 89159 168.05105185508728\n",
      "91000 90152 170.05247163772583\n",
      "92000 91148 172.05679178237915\n",
      "93000 91994 173.7960000038147\n",
      "94000 92935 175.66786980628967\n",
      "95000 93924 177.37506675720215\n",
      "96000 94924 179.45995783805847\n",
      "97000 95921 181.65949177742004\n",
      "98000 96916 183.57725167274475\n",
      "99000 97911 185.98125171661377\n",
      "100000 98905 188.50835299491882\n",
      "101000 99868 190.23067688941956\n",
      "102000 100866 191.99884581565857\n",
      "103000 101863 193.80208086967468\n",
      "104000 102860 195.6758909225464\n",
      "105000 103854 197.78089690208435\n",
      "106000 104823 199.8177719116211\n",
      "107000 105819 201.35721802711487\n",
      "108000 106814 203.1830358505249\n",
      "109000 107809 205.08570075035095\n",
      "110000 108809 206.91806983947754\n",
      "111000 109798 208.84851098060608\n",
      "112000 110789 210.87311387062073\n",
      "113000 111788 213.0470359325409\n",
      "114000 112783 214.96928882598877\n",
      "115000 113776 216.78353786468506\n",
      "116000 114772 218.72138690948486\n",
      "117000 115762 220.4962558746338\n",
      "118000 116749 222.17566585540771\n",
      "119000 117741 224.08160877227783\n",
      "120000 118738 226.0478117465973\n",
      "121000 119734 228.13608193397522\n",
      "122000 120631 230.0299949645996\n",
      "123000 121627 231.9919137954712\n",
      "124000 122621 234.1731357574463\n",
      "125000 123619 236.21564483642578\n",
      "126000 124612 238.25891876220703\n",
      "127000 125607 240.2941608428955\n",
      "128000 126594 242.09170198440552\n",
      "129000 127593 243.99313378334045\n",
      "130000 128593 245.71591973304749\n",
      "131000 129592 247.71024203300476\n",
      "132000 130592 249.52673363685608\n",
      "133000 131588 251.52398085594177\n",
      "134000 132586 253.63432478904724\n",
      "135000 133583 255.45166277885437\n",
      "136000 134544 257.3708930015564\n",
      "137000 135539 259.5693209171295\n",
      "138000 136526 261.499990940094\n",
      "139000 137524 263.2936508655548\n",
      "140000 138522 265.42346596717834\n",
      "141000 139515 267.50304102897644\n",
      "142000 140507 269.6586117744446\n",
      "143000 141485 271.4223108291626\n",
      "144000 142481 273.24712085723877\n",
      "145000 143475 274.87128496170044\n",
      "146000 144467 276.46771478652954\n",
      "147000 145420 278.1710708141327\n",
      "148000 146420 280.04684686660767\n",
      "149000 147411 281.8183968067169\n",
      "150000 148395 283.62320280075073\n",
      "151000 149351 285.36452460289\n",
      "152000 150347 287.1642680168152\n",
      "153000 151340 288.9777789115906\n",
      "154000 152334 291.0454468727112\n",
      "155000 153329 292.9999408721924\n",
      "156000 154325 295.3736026287079\n",
      "157000 155322 297.4867787361145\n",
      "158000 156318 299.67471170425415\n",
      "159000 157311 301.80206990242004\n",
      "160000 158309 304.225341796875\n",
      "161000 159301 306.59993600845337\n",
      "162000 160293 309.00841879844666\n",
      "163000 161292 311.3572998046875\n",
      "164000 162289 313.8803608417511\n",
      "165000 163279 316.25734186172485\n",
      "166000 164235 318.45096707344055\n",
      "167000 165227 320.18803095817566\n",
      "168000 166224 322.48413276672363\n",
      "169000 167220 324.51980900764465\n",
      "170000 168217 326.53648376464844\n",
      "171000 169211 328.15069484710693\n",
      "172000 170183 330.1629309654236\n",
      "173000 171166 332.24443793296814\n",
      "174000 172163 334.42454767227173\n",
      "175000 173148 336.38715076446533\n",
      "176000 174145 338.43592071533203\n",
      "177000 175138 340.4895977973938\n",
      "178000 176132 342.42478489875793\n",
      "179000 177126 344.36534881591797\n",
      "180000 178122 346.3171739578247\n",
      "181000 179119 348.27474093437195\n",
      "182000 180115 350.22959780693054\n",
      "183000 181107 352.1358277797699\n",
      "184000 182100 353.85522294044495\n",
      "185000 183099 355.7651219367981\n",
      "186000 184091 357.6187608242035\n",
      "187000 185089 359.67020893096924\n",
      "188000 186086 361.77697682380676\n",
      "189000 187081 363.8198289871216\n",
      "190000 188080 365.7843337059021\n",
      "191000 189078 367.61047887802124\n",
      "192000 190051 369.4805996417999\n",
      "193000 191047 371.4830379486084\n",
      "194000 192014 373.3339629173279\n",
      "195000 193004 375.35429787635803\n",
      "196000 194000 377.4637529850006\n",
      "197000 194994 379.4158887863159\n",
      "198000 195990 381.3951380252838\n",
      "199000 196981 383.4701817035675\n",
      "200000 197980 385.60478591918945\n",
      "201000 198970 387.62787890434265\n",
      "202000 199961 389.6155598163605\n",
      "203000 200955 391.74384784698486\n",
      "204000 201951 393.80634593963623\n",
      "205000 202936 395.7797019481659\n",
      "206000 203932 397.9074568748474\n",
      "207000 204927 399.94162774086\n",
      "208000 205922 402.0638236999512\n",
      "209000 206914 403.9956018924713\n",
      "210000 207906 405.93710470199585\n",
      "211000 208881 407.9837498664856\n",
      "212000 209876 410.0531997680664\n",
      "213000 210874 412.1483509540558\n",
      "214000 211872 414.23965883255005\n",
      "215000 212870 416.25109577178955\n",
      "216000 213867 418.15531182289124\n",
      "217000 214849 419.88349080085754\n"
     ]
    }
   ],
   "source": [
    "itime = time.time()\n",
    "j = 0\n",
    "num_changes = 0\n",
    "cheng_df = entrez_cheng_df.copy()\n",
    "maskarr = np.zeros(cheng_df.shape[0])\n",
    "for i in range(cheng_df.shape[0]):\n",
    "    if (entrez_cheng_df.iloc[i, 0] in entrez_to_genename) and (entrez_cheng_df.iloc[i, 1] in entrez_to_genename):\n",
    "        j += 1\n",
    "        nadc = np.where(point_names == entrez_to_genename[entrez_cheng_df.iloc[i, 0]])[0]\n",
    "        nadc2 = np.where(point_names == entrez_to_genename[entrez_cheng_df.iloc[i, 1]])[0]\n",
    "        if (len(nadc) > 0) and (len(nadc2) > 0):\n",
    "            cheng_df.iloc[i, 0] = nadc[0]\n",
    "            cheng_df.iloc[i, 1] = nadc2[0]\n",
    "            num_changes += 1\n",
    "    if i%1000 == 0:\n",
    "        print(i, j, time.time() - itime)"
   ]
  },
  {
   "cell_type": "code",
   "execution_count": 109,
   "metadata": {},
   "outputs": [],
   "source": [
    "all_cheng_df = cheng_df.loc[np.sum(cheng_df == entrez_cheng_df, axis=1) == 1]"
   ]
  },
  {
   "cell_type": "code",
   "execution_count": 121,
   "metadata": {},
   "outputs": [
    {
     "name": "stdout",
     "output_type": "stream",
     "text": [
      "0\n",
      "40000\n",
      "80000\n",
      "120000\n",
      "160000\n"
     ]
    }
   ],
   "source": [
    "rows = []\n",
    "cols = []\n",
    "for i in range(all_cheng_df.shape[0]):\n",
    "    rows.append(all_cheng_df.iloc[i, 0])\n",
    "    cols.append(all_cheng_df.iloc[i, 1])\n",
    "    rows.append(all_cheng_df.iloc[i, 1])\n",
    "    cols.append(all_cheng_df.iloc[i, 0])\n",
    "    if i%40000 == 0:\n",
    "        print(i)"
   ]
  },
  {
   "cell_type": "code",
   "execution_count": 123,
   "metadata": {},
   "outputs": [],
   "source": [
    "cheng_adj_mat = sp.sparse.coo_matrix((np.ones(len(rows)), (rows, cols)), shape=(point_names.shape[0], point_names.shape[0]))"
   ]
  },
  {
   "cell_type": "code",
   "execution_count": 128,
   "metadata": {},
   "outputs": [],
   "source": [
    "sp.sparse.save_npz(app_config.params['cheng_matrix_path'], cheng_adj_mat)"
   ]
  },
  {
   "cell_type": "code",
   "execution_count": null,
   "metadata": {},
   "outputs": [],
   "source": []
  },
  {
   "cell_type": "code",
   "execution_count": null,
   "metadata": {},
   "outputs": [],
   "source": []
  },
  {
   "cell_type": "code",
   "execution_count": 10,
   "metadata": {},
   "outputs": [
    {
     "data": {
      "text/plain": [
       "array([    0,     0,     0, ..., 17633, 17633, 17633], dtype=int32)"
      ]
     },
     "execution_count": 10,
     "metadata": {},
     "output_type": "execute_result"
    }
   ],
   "source": [
    "x.tocoo().row"
   ]
  },
  {
   "cell_type": "code",
   "execution_count": 7,
   "metadata": {},
   "outputs": [],
   "source": [
    "x=sp.sparse.load_npz(app_config.params['string_matrix_ascoess_path'])"
   ]
  },
  {
   "cell_type": "markdown",
   "metadata": {},
   "source": [
    "# HuRI interactome data \n",
    "## (from http://interactome.baderlab.org/download)"
   ]
  },
  {
   "cell_type": "code",
   "execution_count": null,
   "metadata": {},
   "outputs": [],
   "source": []
  }
 ],
 "metadata": {
  "anaconda-cloud": {},
  "kernelspec": {
   "display_name": "Python 3",
   "language": "python",
   "name": "python3"
  },
  "language_info": {
   "codemirror_mode": {
    "name": "ipython",
    "version": 3
   },
   "file_extension": ".py",
   "mimetype": "text/x-python",
   "name": "python",
   "nbconvert_exporter": "python",
   "pygments_lexer": "ipython3",
   "version": "3.6.8"
  }
 },
 "nbformat": 4,
 "nbformat_minor": 2
}
