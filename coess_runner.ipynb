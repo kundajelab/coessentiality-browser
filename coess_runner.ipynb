{
 "cells": [
  {
   "cell_type": "code",
   "execution_count": 14,
   "metadata": {},
   "outputs": [],
   "source": [
    "import importlib, os, numpy as np, scipy as sp, pandas as pd, time, scipy.io\n",
    "import intviz, plotly.offline, plotly.graph_objs as go\n",
    "from plotly.offline import download_plotlyjs, init_notebook_mode\n",
    "\n",
    "# import dash, dash_core_components as dcc, dash_html_components as html\n",
    "# from dash.dependencies import Input, Output\n",
    "# from IPython import display\n",
    "# init_notebook_mode(connected=True)\n",
    "# For inline interaction, might further need \"jupyter notebook --NotebookApp.iopub_data_rate_limit=10000000000\""
   ]
  },
  {
   "cell_type": "code",
   "execution_count": 81,
   "metadata": {},
   "outputs": [
    {
     "data": {
      "text/plain": [
       "'file:///users/abalsubr/hodos/mmyo_young4k_3d.html'"
      ]
     },
     "execution_count": 81,
     "metadata": {},
     "output_type": "execute_result"
    }
   ],
   "source": [
    "importlib.reload(intviz)\n",
    "inpath = \"/users/abalsubr/sc-atacplus/mmyo_plot/mmyo_young4k_3d.csv\"\n",
    "outpath = \"/users/abalsubr/hodos/mmyo_young4k_3d.html\"\n",
    "fig = intviz.plot3d_scatter(inpath, colorscale='Viridis', color_var='x', incl_edges=True, autoscale_data=True)\n",
    "plotly.offline.plot(fig, filename=outpath, auto_open=False)"
   ]
  },
  {
   "cell_type": "code",
   "execution_count": 78,
   "metadata": {},
   "outputs": [
    {
     "data": {
      "text/plain": [
       "'file:///users/abalsubr/hodos/mmyo_young8k_3d.html'"
      ]
     },
     "execution_count": 78,
     "metadata": {},
     "output_type": "execute_result"
    }
   ],
   "source": [
    "inpath = \"/users/abalsubr/sc-atacplus/mmyo_plot/mmyo_young8k_3d.csv\"\n",
    "outpath = \"/users/abalsubr/hodos/mmyo_young8k_3d.html\"\n",
    "fig = intviz.plot3d_scatter(inpath, colorscale='Viridis', color_var='x', autoscale_data=True)\n",
    "plotly.offline.plot(fig, filename=outpath, auto_open=False)"
   ]
  },
  {
   "cell_type": "code",
   "execution_count": 4,
   "metadata": {},
   "outputs": [
    {
     "name": "stdout",
     "output_type": "stream",
     "text": [
      "Help on function iplot in module plotly.offline.offline:\n",
      "\n",
      "iplot(figure_or_data, show_link=True, link_text='Export to plot.ly', validate=True, image=None, filename='plot_image', image_width=800, image_height=600, config=None)\n",
      "    Draw plotly graphs inside an IPython or Jupyter notebook without\n",
      "    connecting to an external server.\n",
      "    To save the chart to Plotly Cloud or Plotly Enterprise, use\n",
      "    `plotly.plotly.iplot`.\n",
      "    To embed an image of the chart, use `plotly.image.ishow`.\n",
      "    \n",
      "    figure_or_data -- a plotly.graph_objs.Figure or plotly.graph_objs.Data or\n",
      "                      dict or list that describes a Plotly graph.\n",
      "                      See https://plot.ly/python/ for examples of\n",
      "                      graph descriptions.\n",
      "    \n",
      "    Keyword arguments:\n",
      "    show_link (default=True) -- display a link in the bottom-right corner of\n",
      "                                of the chart that will export the chart to\n",
      "                                Plotly Cloud or Plotly Enterprise\n",
      "    link_text (default='Export to plot.ly') -- the text of export link\n",
      "    validate (default=True) -- validate that all of the keys in the figure\n",
      "                               are valid? omit if your version of plotly.js\n",
      "                               has become outdated with your version of\n",
      "                               graph_reference.json or if you need to include\n",
      "                               extra, unnecessary keys in your figure.\n",
      "    image (default=None |'png' |'jpeg' |'svg' |'webp') -- This parameter sets\n",
      "        the format of the image to be downloaded, if we choose to download an\n",
      "        image. This parameter has a default value of None indicating that no\n",
      "        image should be downloaded. Please note: for higher resolution images\n",
      "        and more export options, consider making requests to our image servers.\n",
      "        Type: `help(py.image)` for more details.\n",
      "    filename (default='plot') -- Sets the name of the file your image\n",
      "        will be saved to. The extension should not be included.\n",
      "    image_height (default=600) -- Specifies the height of the image in `px`.\n",
      "    image_width (default=800) -- Specifies the width of the image in `px`.\n",
      "    config (default=None) -- Plot view options dictionary. Keyword arguments\n",
      "        `show_link` and `link_text` set the associated options in this\n",
      "        dictionary if it doesn't contain them already.\n",
      "    \n",
      "    Example:\n",
      "    ```\n",
      "    from plotly.offline import init_notebook_mode, iplot\n",
      "    init_notebook_mode()\n",
      "    iplot([{'x': [1, 2, 3], 'y': [5, 2, 7]}])\n",
      "    # We can also download an image of the plot by setting the image to the\n",
      "    format you want. e.g. `image='png'`\n",
      "    iplot([{'x': [1, 2, 3], 'y': [5, 2, 7]}], image='png')\n",
      "    ```\n",
      "\n"
     ]
    }
   ],
   "source": [
    "color_var = 'Pax7'\n",
    "hover_vars = ['Myf5', 'MyoD1', 'MyoG', 'Nr4a2', 'Ptger4', 'Bax', 'Casp8']"
   ]
  }
 ],
 "metadata": {
  "kernelspec": {
   "display_name": "Python 3",
   "language": "python",
   "name": "python3"
  },
  "language_info": {
   "codemirror_mode": {
    "name": "ipython",
    "version": 3
   },
   "file_extension": ".py",
   "mimetype": "text/x-python",
   "name": "python",
   "nbconvert_exporter": "python",
   "pygments_lexer": "ipython3",
   "version": "3.7.0"
  }
 },
 "nbformat": 4,
 "nbformat_minor": 2
}
