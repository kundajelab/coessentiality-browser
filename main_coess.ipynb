{
 "cells": [
  {
   "cell_type": "code",
   "execution_count": 10,
   "metadata": {},
   "outputs": [],
   "source": [
    "import numpy as np, pandas as pd, time, os, subprocess, scipy as sp, diffmap as dm#, app_utils\n",
    "#import intviz_coess\n",
    "# import plotly\n",
    "import importlib, matplotlib.pyplot as plt, sklearn.covariance as skcov\n",
    "import scipy.io, tqdm, sklearn.metrics, tqdm, umap\n",
    "from scipy.sparse import csr_matrix\n",
    "from sklearn.metrics import pairwise_distances\n",
    "\n",
    "_data_path = '/Users/akshay/github/coessentiality-browser/data/'\n",
    "\n",
    "# Read in GLS -log(p) values.\n",
    "coess_mat = pd.read_csv(_data_path + 'GLS_p.tsv.gz', sep=\"\\t\", index_col=0)\n",
    "GLS_log_p = coess_mat.astype('float32')\n",
    "np.save(_data_path + 'gene_names.npy', coess_mat.index)\n",
    "#\"\"\"\n",
    "gene_names = np.load(_data_path + 'gene_names.npy', allow_pickle=True)"
   ]
  },
  {
   "cell_type": "markdown",
   "metadata": {},
   "source": [
    "# Read in clusterONE analysis, and index it by gene."
   ]
  },
  {
   "cell_type": "code",
   "execution_count": null,
   "metadata": {},
   "outputs": [
    {
     "data": {
      "application/vnd.jupyter.widget-view+json": {
       "model_id": "18b02b0f6533498c8a7e7aa27aa9b848",
       "version_major": 2,
       "version_minor": 0
      },
      "text/plain": [
       "HBox(children=(IntProgress(value=0, max=17634), HTML(value='')))"
      ]
     },
     "metadata": {},
     "output_type": "display_data"
    }
   ],
   "source": [
    "cone_clusts = pd.read_csv(_data_path + 'clusterOne_clusters.tsv', sep=\"\\t\", index_col=0, header=0)\n",
    "#\"\"\"\n",
    "clustdata = cone_clusts.iloc[:,10:].fillna(value='')\n",
    "nclusts = clustdata.shape[0]\n",
    "cluster_ndces = {}\n",
    "for gname in tqdm.tqdm_notebook(gene_names):\n",
    "    cluster_ndces[gname] = np.where(clustdata == gname)[0]\n",
    "clust_mmships = np.zeros((len(gene_names), nclusts))\n",
    "for i in range(len(gene_names)):\n",
    "    clust_mmships[i, cluster_ndces[gene_names[i]]] = 1\n",
    "clust_mmships = sp.sparse.csr_matrix(clust_mmships)\n",
    "sp.sparse.save_npz(_data_path + 'clusterone_memberships.npz', clust_mmships)\n",
    "cone_clusts.iloc[:,:10]['Most-enriched GO term'].fillna(_UNKNOWN_PLACEHOLDER).to_csv('/users/abalsubr/hodos/coessentiality/data/clusterone_goterms.txt', index=False, sep='\\t')\n",
    "#\"\"\"\n",
    "\n",
    "# Build and save pairwise Jaccard similarities between genes, according to each of the clusterings given.\n",
    "gg_jaccsims = dm.pairwise_jaccard_graph(clust_mmships)\n",
    "# sp.sparse.save_npz(_data_path + 'gg_CO_jaccard.npz', gg_jaccsims)\n",
    "\n",
    "\n",
    "#clust_mmships = sp.sparse.load_npz(_data_path + 'clusterone_memberships.npz')\n",
    "cluster_sizes = np.sum(clust_mmships.toarray(), axis=0)\n",
    "plt.hist(cluster_sizes, bins=150, density=True, cumulative=True, range=(0,100))\n",
    "plt.xlabel(\"Cluster size (number of genes)\")\n",
    "plt.ylabel(\"Fraction of clusters\")\n",
    "plt.show()"
   ]
  },
  {
   "cell_type": "markdown",
   "metadata": {},
   "source": [
    "# Make combined gene-gene graph\n",
    "\n",
    "This is a mixture of the following graphs:\n",
    "- Baseline GLS log-ratios\n",
    "- Cluster-one graph: edge weight is Jaccard similarity between cluster-one cluster membership sets\n",
    "\n",
    "$$\\mbox{new graph = } (\\alpha \\times \\mbox{cluster-one membership graph}) + ((1-\\alpha) \\times \\mbox{GLS p-val graph}) $$\n",
    "with $0 \\leq \\alpha \\leq 1$ being some adjustable weight parameter (we use 0.99).\n",
    "\n",
    "This is mostly about the communities found by cluster-one, just throwing in a little GLS to include the $\\sim 2K$ orphan genes that aren't in a cluster into the same connected component."
   ]
  },
  {
   "cell_type": "code",
   "execution_count": 165,
   "metadata": {},
   "outputs": [
    {
     "data": {
      "application/vnd.jupyter.widget-view+json": {
       "model_id": "8aa3884b06184745b9e87e89ff50968a",
       "version_major": 2,
       "version_minor": 0
      },
      "text/plain": [
       "HBox(children=(IntProgress(value=0, max=17634), HTML(value='')))"
      ]
     },
     "metadata": {},
     "output_type": "display_data"
    },
    {
     "data": {
      "application/vnd.jupyter.widget-view+json": {
       "model_id": "c98b8e716eef4606b09a15d0820172aa",
       "version_major": 2,
       "version_minor": 0
      },
      "text/plain": [
       "HBox(children=(IntProgress(value=0, max=17634), HTML(value='')))"
      ]
     },
     "metadata": {},
     "output_type": "display_data"
    },
    {
     "data": {
      "application/vnd.jupyter.widget-view+json": {
       "model_id": "3d25ebe3be0c46b497f252ad846f13ab",
       "version_major": 2,
       "version_minor": 0
      },
      "text/plain": [
       "HBox(children=(IntProgress(value=0, max=17634), HTML(value='')))"
      ]
     },
     "metadata": {},
     "output_type": "display_data"
    }
   ],
   "source": [
    "# Use GLS -log(p) values between each pair of genes (the (genes x genes) matrix GLS_log_p) as the adjacency matrix of the GLS graph.\n",
    "\n",
    "GLS_pvals_100 = dm.build_knn(GLS_log_p, k=100, symmetrize_type='inclusive')\n",
    "GLS_pvals_10 = dm.build_knn(GLS_pvals_100, k=10, symmetrize_type='inclusive')\n",
    "\n",
    "sp.sparse.save_npz(_data_path + 'GLS_pvals_100NN.npz', GLS_pvals_100)\n",
    "sp.sparse.save_npz(_data_path + 'GLS_pvals_10NN.npz', GLS_pvals_10)\n",
    "\n",
    "GLS_pvals_100 = sp.sparse.load_npz(_data_path + 'GLS_pvals_100NN.npz')\n",
    "GLS_pvals_10 = sp.sparse.load_npz(_data_path + 'GLS_pvals_10NN.npz')\n",
    "\n",
    "gm_inc = dm.build_knn(gg_jaccsims, k=10, symmetrize_type='inclusive')\n",
    "\n",
    "# sp.sparse.save_npz(_data_path + 'CO_10NN.npz', gm_inc)\n",
    "# gm_inc = sp.sparse.load_npz(_data_path + 'CO_10NN.npz')"
   ]
  },
  {
   "cell_type": "markdown",
   "metadata": {},
   "source": [
    "## Construct the combined graph "
   ]
  },
  {
   "cell_type": "code",
   "execution_count": null,
   "metadata": {},
   "outputs": [],
   "source": [
    "frac_CO_graph = 0.99\n",
    "frac_GLS_graph = 1-frac_CO_graph\n",
    "\n",
    "adj_mat = sp.sparse.csr_matrix((frac_CO_graph * gm_inc) + \n",
    "                               (frac_GLS_graph * GLS_pvals_10)\n",
    "                              )\n",
    "itime = time.time()\n",
    "n_cmps = 100\n",
    "reduced_dim = 50\n",
    "\n",
    "sffix = \"_GLS01_CO99\"\n",
    "vizdf_filename = \"{}vizdf{}.csv\".format(_data_path, sffix)"
   ]
  },
  {
   "cell_type": "markdown",
   "metadata": {},
   "source": [
    "## Create eigenmap embeddings:\n",
    "- Naive: unweighted on all axes.\n",
    "- Diffmap: scaling each axis by \\lambda^{t} (used for the paper's results)"
   ]
  },
  {
   "cell_type": "code",
   "execution_count": null,
   "metadata": {},
   "outputs": [],
   "source": [
    "# Use two single-cell libraries to call approx nearest neighbors and UMAP.\n",
    "# These dependencies can and will be removed.\n",
    "import scanpy.api as sc, anndata as adata"
   ]
  },
  {
   "cell_type": "code",
   "execution_count": 450,
   "metadata": {},
   "outputs": [
    {
     "name": "stdout",
     "output_type": "stream",
     "text": [
      "50 dimensions contain about 1.0000000000000004 fraction of the variance in the first 50 dimensions (t = 0)\n",
      "Laplacian eigenmap computed. Time: 2.626345634460449\n",
      "51 dimensions contain about 0.9000000000000006 fraction of the variance in the first 100 dimensions (t = 84.72566533212328)\n",
      "Diffusion components computed. Time: 7.408616781234741\n"
     ]
    },
    {
     "data": {
      "image/png": "[encoded data removed]",
      "text/plain": [
       "<Figure size 432x288 with 1 Axes>"
      ]
     },
     "metadata": {},
     "output_type": "display_data"
    },
    {
     "data": {
      "text/plain": [
       "'\\n# #Plot 1D projections; they are all standardized!\\n# dm.plot_histogram(emap_naive, k=1)\\n'"
      ]
     },
     "execution_count": 450,
     "metadata": {},
     "output_type": "execute_result"
    }
   ],
   "source": [
    "emap_naive, eigvals = dm.diffmap_proj(adj_mat, t=0, n_comps=reduced_dim, embed_type='naive', return_eigvals=True)\n",
    "print(\"Laplacian eigenmap computed. Time: {}\".format(time.time() - itime))\n",
    "emap_heat = dm.diffmap_proj(adj_mat, n_comps=n_cmps, n_dims=reduced_dim, min_energy_frac=0.9, embed_type='diffmap', return_eigvals=False)\n",
    "print(\"Diffusion components computed. Time: {}\".format(time.time() - itime))\n",
    "\n",
    "#Plot eigenvalue spectrum of resulting graph.\n",
    "plt.scatter(x=range(reduced_dim), y=np.abs(eigvals)[:reduced_dim])\n",
    "plt.show()"
   ]
  },
  {
   "cell_type": "code",
   "execution_count": 451,
   "metadata": {},
   "outputs": [
    {
     "name": "stdout",
     "output_type": "stream",
     "text": [
      "90.56874084472656\n",
      "90.88595914840698\n"
     ]
    }
   ],
   "source": [
    "# Do t-SNE in diffusion component space.\n",
    "ann_naive = adata.AnnData(X=emap_naive[:, :40])\n",
    "ann_heat = adata.AnnData(X=emap_heat[:, :40])\n",
    "itime = time.time()\n",
    "sc.tl.tsne(ann_heat, use_rep='X')#, perplexity=30)\n",
    "print(time.time() - itime)\n",
    "itime = time.time()\n",
    "sc.tl.tsne(ann_naive, use_rep='X')\n",
    "print(time.time() - itime)"
   ]
  },
  {
   "cell_type": "code",
   "execution_count": 452,
   "metadata": {},
   "outputs": [
    {
     "name": "stdout",
     "output_type": "stream",
     "text": [
      "12.910095691680908\n",
      "25.986040115356445\n"
     ]
    }
   ],
   "source": [
    "itime = time.time()\n",
    "sc.pp.neighbors(ann_heat)\n",
    "print(time.time() - itime)\n",
    "itime = time.time()\n",
    "sc.tl.umap(ann_heat)#, perplexity=30)\n",
    "print(time.time() - itime)"
   ]
  },
  {
   "cell_type": "code",
   "execution_count": 453,
   "metadata": {},
   "outputs": [],
   "source": [
    "naive_dm = emap_naive[:, :3].copy()\n",
    "naive_tSNE = np.array(ann_naive.obsm['X_tsne'])\n",
    "heat_dm = emap_heat[:, :3].copy()\n",
    "heat_tSNE = np.array(ann_heat.obsm['X_tsne'])\n",
    "\n",
    "#naive_tSNE = np.array(ann_naive.obsm['X_tsne'])\n",
    "heat_umap = np.array(ann_heat.obsm['X_umap'])\n",
    "\n",
    "vizdf = pd.DataFrame(data=np.hstack((naive_dm, naive_tSNE, \n",
    "                                     heat_dm, heat_tSNE, heat_umap\n",
    "                                    )), \n",
    "                     columns=['EM_x', 'EM_y', 'EM_z', 'tSNE_x', 'tSNE_y', \n",
    "                              'hEM_x', 'hEM_y', 'hEM_z', 'htSNE_x', 'htSNE_y', 'hUMAP_x', 'hUMAP_y'\n",
    "                             ], dtype='object')\n",
    "\n",
    "vizdf['roarke_clusters'] = np.array([c.decode('utf-8') for c in c_roarke_clusters])\n",
    "vizdf['top_enriched_clusters'] = np.array([c.decode('utf-8') for c in c_topenriched_clusters])\n",
    "vizdf['gene_names'] = gene_names\n",
    "vizdf['max_enrichments'] = max_agg_enrichments_bygene\n",
    "vizdf.to_csv(vizdf_filename, sep=\"\\t\", index=False)"
   ]
  },
  {
   "cell_type": "markdown",
   "metadata": {},
   "source": [
    "# At this point, vizdf contains the necessary info."
   ]
  },
  {
   "cell_type": "code",
   "execution_count": null,
   "metadata": {},
   "outputs": [],
   "source": []
  },
  {
   "cell_type": "markdown",
   "metadata": {},
   "source": [
    "# Addendum: how to whiten raw normalized essentiality data (CERES scores)"
   ]
  },
  {
   "cell_type": "code",
   "execution_count": 5,
   "metadata": {},
   "outputs": [],
   "source": [
    "data_ess = pd.read_csv(_data_path + 'essentiality.tsv.gz', index_col=0, header=0, sep='\\t')\n",
    "data_ess = data_ess[data_ess.columns[:-4]]   # Only first 481 cols put through GLS, so isolate these\n",
    "cell_line_names = data_ess.columns\n",
    "cancer_types = data_ess.columns.str.split('_').str[1:].str.join(' ').str.capitalize().str.replace('Haematopoietic and lymphoid tissue', 'Hematopoietic/lymphoid')\n",
    "ess_vals = data_ess.values\n",
    "\n",
    "itime = time.time()\n",
    "# Whiten data\n",
    "U, s, Vt = np.linalg.svd(ess_vals.T, full_matrices=False)\n",
    "ess_white = np.dot(U, Vt)\n",
    "print(time.time() - itime)"
   ]
  }
 ],
 "metadata": {
  "kernelspec": {
   "display_name": "Python 3",
   "language": "python",
   "name": "python3"
  },
  "language_info": {
   "codemirror_mode": {
    "name": "ipython",
    "version": 3
   },
   "file_extension": ".py",
   "mimetype": "text/x-python",
   "name": "python",
   "nbconvert_exporter": "python",
   "pygments_lexer": "ipython3",
   "version": "3.7.4"
  }
 },
 "nbformat": 4,
 "nbformat_minor": 4
}
