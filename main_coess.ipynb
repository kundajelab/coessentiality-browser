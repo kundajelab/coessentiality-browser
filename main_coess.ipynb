{
 "cells": [
  {
   "cell_type": "code",
   "execution_count": 3,
   "metadata": {
    "collapsed": true,
    "jupyter": {
     "outputs_hidden": true
    }
   },
   "outputs": [
    {
     "data": {
      "text/plain": [
       "'\\n# Only a few % are enriched for anything, with 10 main terms (colors).\\ngo_mat = pd.read_csv(\\'GO_terms.tsv.gz\\', sep=\"\\t\", index_col=0).astype(bool)\\nterm_names = go_mat.columns\\nprint(\"Genes enriched per term: \\n\" + str(np.sum(go_mat)))\\n\\n# Uncomment only if we want separately intersected subsets to be different colors.\\n# term_dict = dict(zip(np.power(2., np.arange(10)), term_names))\\n# term_dict[544] = \\'biological process:translation + cellular component:ribosome\\'\\'\\nterm_dict = {(i+1): term_names[i] for i in range(len(term_names))}\\nterm_dict[0] = \\'none\\'\\n\\n# Build array of GO term enrichments for each gene.\\n\\nterm_enrichments = np.zeros(go_mat.shape[0])\\nfor i in range(len(term_enrichments)):\\n    ndces = np.where(go_mat.values[i,:])[0]\\n    if len(ndces) == 1:\\n        term_enrichments[i] = ndces[0]\\nprint(term_enrichments.shape)\\n'"
      ]
     },
     "execution_count": 3,
     "metadata": {},
     "output_type": "execute_result"
    }
   ],
   "source": [
    "import numpy as np, pandas as pd, time, os, subprocess, scipy as sp, diffmap as dm#, app_utils\n",
    "#import intviz_coess\n",
    "# import plotly\n",
    "import importlib, matplotlib.pyplot as plt, sklearn.covariance as skcov\n",
    "import scipy.io, tqdm, sklearn.metrics, tqdm, umap\n",
    "from scipy.sparse import csr_matrix\n",
    "import scanpy.api as sc, anndata as adata\n",
    "\n",
    "_data_path = '/Users/akshay/github/coessentiality-browser/data/'\n",
    "\n",
    "\"\"\"\n",
    "coess_mat = pd.read_csv(_data_path + 'GLS_p.tsv.gz', sep=\"\\t\", index_col=0)\n",
    "cmat_sav = coess_mat.astype('float32')\n",
    "np.save(_data_path + 'GLS_p.npy', cmat_sav.values)\n",
    "np.save(_data_path + 'gene_names.npy', coess_mat.index)\n",
    "\"\"\"\n",
    "gene_names = np.load(_data_path + 'gene_names.npy')"
   ]
  },
  {
   "cell_type": "markdown",
   "metadata": {},
   "source": [
    "# Read raw normalized essentiality data."
   ]
  },
  {
   "cell_type": "code",
   "execution_count": 87,
   "metadata": {},
   "outputs": [],
   "source": [
    "data_ess = pd.read_csv(_data_path + 'essentiality.tsv.gz', index_col=0, header=0, sep='\\t')\n",
    "data_ess = data_ess[data_ess.columns[:-4]]   # Only first 481 cols put through GLS, so isolate these\n",
    "cell_line_names = data_ess.columns\n",
    "cancer_types = data_ess.columns.str.split('_').str[1:].str.join(' ').str.capitalize().str.replace(\n",
    "    'Haematopoietic and lymphoid tissue', 'Hematopoietic/lymphoid')\n",
    "ess_vals = data_ess.values"
   ]
  },
  {
   "cell_type": "code",
   "execution_count": 118,
   "metadata": {},
   "outputs": [
    {
     "name": "stdout",
     "output_type": "stream",
     "text": [
      "0.8430285453796387\n"
     ]
    }
   ],
   "source": [
    "itime = time.time()\n",
    "skgl = sklearn.covariance.GraphicalLasso(mode='lars')\n",
    "# Whiten data\n",
    "U, s, Vt = np.linalg.svd(ess_vals.T, full_matrices=False)\n",
    "ess_white = np.dot(U, Vt)\n",
    "print(time.time() - itime)"
   ]
  },
  {
   "cell_type": "markdown",
   "metadata": {},
   "source": [
    "# Read in clusterONE analysis, and index it by gene."
   ]
  },
  {
   "cell_type": "code",
   "execution_count": 6,
   "metadata": {},
   "outputs": [
    {
     "data": {
      "image/png": "[encoded data removed]",
      "text/plain": [
       "<Figure size 432x288 with 1 Axes>"
      ]
     },
     "metadata": {
      "needs_background": "light"
     },
     "output_type": "display_data"
    }
   ],
   "source": [
    "cone_clusts = pd.read_csv(_data_path + 'clusterOne_clusters.tsv', sep=\"\\t\", index_col=0, header=0)\n",
    "\"\"\"\n",
    "clustdata = cone_clusts.iloc[:,10:].fillna(value='')\n",
    "nclusts = clustdata.shape[0]\n",
    "cluster_ndces = {}\n",
    "for gname in tqdm.tqdm_notebook(gene_names):\n",
    "    cluster_ndces[gname] = np.where(clustdata == gname)[0]\n",
    "clust_mmships = np.zeros((len(gene_names), nclusts))\n",
    "for i in range(len(gene_names)):\n",
    "    clust_mmships[i, cluster_ndces[gene_names[i]]] = 1\n",
    "clust_mmships = sp.sparse.csr_matrix(clust_mmships)\n",
    "sp.sparse.save_npz('/users/abalsubr/hodos/coessentiality/data/clusterone_memberships.npz', clust_mmships)\n",
    "cone_clusts.iloc[:,:10]['Most-enriched GO term'].fillna(_UNKNOWN_PLACEHOLDER).to_csv('/users/abalsubr/hodos/coessentiality/data/clusterone_goterms.txt', index=False, sep='\\t')\n",
    "\"\"\"\n",
    "clust_mmships = sp.sparse.load_npz(_data_path + 'clusterone_memberships.npz')\n",
    "cluster_sizes = np.sum(clust_mmships.toarray(), axis=0)\n",
    "plt.hist(cluster_sizes, bins=150, density=True, cumulative=True, range=(0,100))\n",
    "plt.xlabel(\"Cluster size (number of genes)\")\n",
    "plt.ylabel(\"Fraction of clusters\")\n",
    "plt.show()"
   ]
  },
  {
   "cell_type": "code",
   "execution_count": 7,
   "metadata": {},
   "outputs": [
    {
     "data": {
      "text/plain": [
       "<17634x1892 sparse matrix of type '<class 'numpy.float64'>'\n",
       "\twith 38566 stored elements in Compressed Sparse Row format>"
      ]
     },
     "execution_count": 7,
     "metadata": {},
     "output_type": "execute_result"
    }
   ],
   "source": [
    "CO_mmships = { 'orig': sp.sparse.load_npz(_data_path + 'clusterone_memberships.npz') }\n",
    "for dparam in ['0.2', '0.5', '0.8', '0.9', '0.95', '0.99', \n",
    "               '0.8_batch_corrected', '0.9_batch_corrected', '0.95_batch_corrected', '0.99_batch_corrected']:\n",
    "    CO_mmships[dparam] = sp.sparse.load_npz(_data_path + 'clusterone_memberships_{}.npz'.format(dparam))\n",
    "\n",
    "# selected_genes = ['A2M', 'ZYX', 'ZZZ3']\n",
    "selected_genes = np.random.choice(gene_names, 400)\n",
    "selected_gene_ndces = np.concatenate([np.where(gene_names == x)[0] for x in selected_genes])\n",
    "cluster_mems = np.squeeze(np.array(clust_mmships[selected_gene_ndces, :].sum(axis=0)))\n",
    "#clust_mmships.shape\n",
    "\n",
    "CO_mmships['orig']#.iloc[:,:10]['Most-enriched GO term'].fillna('Unknown')\n",
    "#np.array(goterms_bycluster)[np.argsort(cluster_mems)[::-1]]"
   ]
  },
  {
   "cell_type": "code",
   "execution_count": 8,
   "metadata": {},
   "outputs": [],
   "source": [
    "GLS_pvals_10 = sp.sparse.load_npz(_data_path + 'GLS_pvals_10NN.npz')\n",
    "import anndata as adata"
   ]
  },
  {
   "cell_type": "code",
   "execution_count": 75,
   "metadata": {
    "collapsed": true,
    "jupyter": {
     "outputs_hidden": true
    }
   },
   "outputs": [
    {
     "name": "stdout",
     "output_type": "stream",
     "text": [
      "d = 0.2 31.5933780670166\n"
     ]
    },
    {
     "name": "stderr",
     "output_type": "stream",
     "text": [
      "/miniconda3/lib/python3.6/site-packages/IPython/core/interactiveshell.py:3020: DtypeWarning: Columns (108,109,110,111,112,113,114,115,116,117,118,119,120,121,122,123,124,125,126,127,128,129,130,131,132,133,134,135,136,137,138,139,140,141,142,143,144,145,146,147,148,149,150,151,152,153,154,155,156,157,158,159,160,161,162,163,164,165,166,167,168,169,170,171,172,173,174,175,176,177,178,179,180,181,182,183,184,185,186,187,188,189,190,191,192,193,194,195,196,197,198,199,200,201,202,203,204,205,206,207,208,209,210,211,212,213,214,215,216,217,218,219,220,221,222,223,224,225,226,227,228,229,230,231,232,233,234,235,236,237,238,239,240,241,242,243,244,245,246,247,248,249,250,251,252,253,254,255,256,257,258,259,260,261,262,263,264,265,266,267,268,269,270,271,272,273,274,275,276,277,278,279,280,281,282,283,284,285,286,287,288,289,290,291,292,293,294,295,296,297,298,299,300,301,302,303,304,305,306,307,308,309,310,311,312,313,314,315,316,317,318,319,320,321,322,323,324,325,326,327,328,329,330,331,332,333,334,335,336,337,338,339,340,341,342,343,344,345,346,347,348,349,350,351,352,353,354,355,356,357,358,359,360,361,362,363,364,365,366,367,368,369,370,371,372,373,374,375,376,377,378,379,380,381,382,383,384,385,386,387,388,389,390,391,392,393,394,395,396,397,398,399,400,401,402,403,404,405,406,407,408,409,410,411,412,413,414,415,416,417,418,419,420,421,422,423,424,425,426,427,428,429,430,431,432,433,434,435,436,437,438,439,440,441,442,443,444,445,446,447,448,449,450,451,452,453,454,455,456,457,458,459,460,461,462,463,464,465,466,467,468,469,470,471,472,473,474,475,476,477,478,479,480,481,482,483,484,485,486,487,488,489,490,491,492,493,494,495,496,497,498,499,500,501,502,503,504,505,506,507,508,509,510,511,512,513,514,515,516,517,518,519,520,521,522,523,524,525,526,527,528,529,530,531,532,533,534,535,536,537,538,539,540,541,542,543,544,545,546,547,548,549,550,551,552,553,554,555,556,557,558,559,560,561,562,563,564,565,566,567,568,569,570,571,572,573,574,575,576,577,578,579,580,581,582,583,584,585,586,587,588,589,590,591,592,593,594,595,596,597,598,599,600,601,602,603,604,605,606,607,608,609,610,611,612,613,614,615,616,617,618,619,620,621,622,623,624,625,626,627,628,629,630,631,632,633,634,635,636,637,638,639,640,641,642,643,644,645,646,647,648,649,650,651,652,653,654,655,656,657,658,659,660,661,662,663,664,665,666,667,668,669,670,671,672,673,674,675,676,677,678,679,680,681,682,683,684,685,686,687,688,689,690,691,692,693,694,695,696,697,698,699,700,701,702,703,704,705,706,707,708,709,710,711,712,713,714,715,716,717,718,719,720) have mixed types. Specify dtype option on import or set low_memory=False.\n",
      "  interactivity=interactivity, compiler=compiler, result=result)\n"
     ]
    },
    {
     "name": "stdout",
     "output_type": "stream",
     "text": [
      "d = 0.5 297.12691283226013\n",
      "d = 0.8 58.87486386299133\n"
     ]
    },
    {
     "name": "stderr",
     "output_type": "stream",
     "text": [
      "/miniconda3/lib/python3.6/site-packages/IPython/core/interactiveshell.py:3020: DtypeWarning: Columns (30,31,32,33,34,35,36,37,38,39,40,41,42,43,44,45,46,47,48,49,50,51,52,53,54,55,56,57,58,59,60,61,62,63,64,65,66,67,68,69,70,71,72,73,74,75,76,77,78,79,80,81,82,83,84,85,86,87,88,89,90,91,92,93,94,95,96,97,98,99,100,101,102,103,104,105,106,107,108,109,110,111,112,113,114,115,116,117,118,119,120,121,122,123,124,125,126,127,128,129,130,131,132,133,134,135,136,137,138,139,140,141,142,143,144,145,146,147,148,149,150,151,152,153,154,155,156,157,158,159,160,161,162,163,164,165,166,167,168,169,170,171,172,173,174,175,176,177,178,179,180,181,182,183,184,185,186,187,188,189,190,191,192,193,194,195,196,197,198,199,200,201,202,203,204,205,206,207,208,209,210,211,212,213,214,215,216,217,218,219,220,221,222,223,224,225,226,227,228,229,230,231,232,233,234,235,236,237,238,239,240,241,242,243,244,245,246,247,248,249,250,251,252,253,254,255,256,257,258,259,260,261,262,263,264,265,266,267,268,269,270,271,272,273,274,275,276,277,278,279,280,281,282,283,284,285,286,287,288,289,290,291,292,293,294,295,296,297,298,299,300,301,302,303,304,305,306,307,308,309,310,311,312,313,314,315,316,317,318,319,320,321,322,323,324,325,326,327,328,329,330,331,332,333,334,335,336,337,338,339,340,341,342,343,344,345,346,347,348,349,350,351,352,353,354,355,356,357,358,359,360,361,362,363,364,365,366,367,368,369,370,371,372,373,374,375,376,377,378,379,380,381,382,383,384,385,386,387,388,389,390,391,392,393,394,395,396,397,398,399,400,401,402,403,404,405,406,407,408,409,410,411,412,413,414,415,416,417,418,419,420,421,422,423,424,425,426,427,428,429,430,431,432,433,434,435,436,437,438,439,440,441,442,443,444,445,446,447,448,449,450,451,452,453,454,455,456,457,458,459,460,461,462,463,464,465,466,467,468,469,470,471,472,473,474,475,476,477,478,479,480,481,482,483,484,485,486,487,488,489,490,491,492,493,494,495,496,497,498,499,500,501,502,503,504,505,506,507,508,509,510,511,512,513,514,515,516,517,518,519,520,521,522,523,524,525,526,527,528,529,530,531,532,533,534,535,536,537,538,539,540,541,542,543,544,545,546,547,548,549,550,551,552,553,554,555,556,557,558,559,560,561,562,563,564,565,566,567,568,569,570,571,572,573,574,575,576,577,578,579,580,581,582,583,584,585,586,587,588,589,590,591,592,593,594,595,596,597,598,599,600,601,602,603,604,605,606,607,608,609,610,611,612,613,614,615,616,617,618,619,620,621,622,623,624,625,626,627,628,629,630,631,632,633,634,635,636,637,638,639,640,641,642,643,644,645,646,647,648,649,650,651,652,653,654,655,656,657,658,659,660,661,662,663,664,665,666,667,668,669,670,671,672,673,674,675,676,677,678,679,680,681,682,683,684,685,686,687,688,689,690,691,692,693,694,695,696,697,698,699,700,701,702,703,704,705,706,707,708,709,710,711,712,713,714,715,716,717,718,719,720) have mixed types. Specify dtype option on import or set low_memory=False.\n",
      "  interactivity=interactivity, compiler=compiler, result=result)\n"
     ]
    },
    {
     "name": "stdout",
     "output_type": "stream",
     "text": [
      "d = 0.9 588.5557160377502\n"
     ]
    }
   ],
   "source": [
    "for thresh in ['0.2', '0.5', '0.8', '0.9']: #['0.8', '0.9', '0.95', '0.99']:\n",
    "    itime = time.time()\n",
    "    tmp_cone_clusts = pd.read_csv(_data_path + 'clusterone_clusters_d_{}.tsv'.format(thresh), \n",
    "                                  sep=\"\\t\", index_col=None, header=None).fillna(value='')\n",
    "    nclusts = tmp_cone_clusts.shape[0]\n",
    "    cluster_ndces = {}\n",
    "    for gname in gene_names:\n",
    "        cluster_ndces[gname] = np.where(tmp_cone_clusts == gname)[0]\n",
    "    clust_mmships = np.zeros((len(gene_names), nclusts))\n",
    "    for i in range(len(gene_names)):\n",
    "        clust_mmships[i, cluster_ndces[gene_names[i]]] = 1\n",
    "    clust_mmships = sp.sparse.csr_matrix(clust_mmships)\n",
    "    sp.sparse.save_npz(_data_path + 'clusterone_memberships_{}.npz'.format(thresh), clust_mmships)\n",
    "    print ('d = ' + thresh, time.time() - itime)"
   ]
  },
  {
   "cell_type": "code",
   "execution_count": 6,
   "metadata": {},
   "outputs": [
    {
     "data": {
      "application/vnd.jupyter.widget-view+json": {
       "model_id": "1f6c6fb1e5054b42940205c16acd783a",
       "version_major": 2,
       "version_minor": 0
      },
      "text/plain": [
       "HBox(children=(IntProgress(value=0, max=612), HTML(value='')))"
      ]
     },
     "metadata": {},
     "output_type": "display_data"
    },
    {
     "name": "stdout",
     "output_type": "stream",
     "text": [
      "\n"
     ]
    },
    {
     "data": {
      "text/plain": [
       "<17634x612 sparse matrix of type '<class 'numpy.float64'>'\n",
       "\twith 21422 stored elements in Compressed Sparse Row format>"
      ]
     },
     "execution_count": 6,
     "metadata": {},
     "output_type": "execute_result"
    }
   ],
   "source": [
    "# Build cluster x GO term matrix.\n",
    "clusterbyGO = sp.sparse.csr_matrix(np.zeros((cone_clusts.shape[0], numterms)))\n",
    "for i in tqdm.tqdm_notebook(range(numterms)):\n",
    "    tm = np.unique(goterms_bycluster)[i]\n",
    "    ndces = np.where(goterms_bycluster == tm)[0]\n",
    "    clusterbyGO[ndces, i] = np.reshape(np.array(goenrichments_bycluster)[ndces], (len(ndces), 1))\n",
    "\n",
    "# Combining the two matrices gives total enrichment of each term associated with each gene, combined over the clusters it belongs to.\n",
    "geneterm_enrichments = clust_mmships.dot(clusterbyGO)\n",
    "gg_weighted_mat = geneterm_enrichments.dot(geneterm_enrichments.transpose())"
   ]
  },
  {
   "cell_type": "code",
   "execution_count": 7,
   "metadata": {},
   "outputs": [],
   "source": [
    "# Top 20 terms cover ~4k genes; use those to color the graph.\n",
    "max_goterm_ndces = np.squeeze(np.asarray(geneterm_enrichments.argmax(axis=1)))\n",
    "num_genes = len(max_goterm_ndces)\n",
    "max_agg_enrichments_bygene = [geneterm_enrichments[i, max_goterm_ndces[i]] for i in range(num_genes)]\n",
    "mostenriched_clusters_bygene = np.argmax(clust_mmships.multiply(goenrichments_bycluster).toarray(), axis=1)\n",
    "\n",
    "# Get the top-enriched terms to use as %colors\n",
    "sorted_cluster_ndces = np.argsort(goenrichments_bycluster.values)[::-1]\n",
    "\n",
    "# Define some clusters per Roarke\n",
    "roarke_cluster_ndces = np.array([735, 352, 290, 1263, 1834, 438, 391, 392, 108, 640, 421, 401, 74]) - 1\n",
    "roarke_cluster_ndces = roarke_cluster_ndces[:-3]\n",
    "roarke_clust_mmships = clust_mmships.copy()\n",
    "roarke_clust_mmships[:, roarke_cluster_ndces] = 0\n",
    "\n",
    "# Build and save pairwise Jaccard similarities between genes, according to each of the clusterings given.\n",
    "# gg_jaccsims = pairwise_jaccard_graph(clust_mmships)\n",
    "# rgg_jaccsims = pairwise_jaccard_graph(roarke_clust_mmships)\n",
    "# sp.sparse.save_npz(_data_path + 'gg_CO_jaccard.npz', gg_jaccsims)\n",
    "# sp.sparse.save_npz(_data_path + 'gg_CO_Roarke_jaccard.npz', rgg_jaccsims)\n",
    "\n",
    "top_cluster_terms = np.unique(np.array(goterms_bycluster)[sorted_cluster_ndces[:30]])#.shape\n",
    "\n",
    "maxs = np.unique(max_goterm_ndces, return_counts=True)\n",
    "most_frequent_goterms = maxs[0][np.argsort(maxs[1])[::-1]]  # (Associated with the highest number of genes)\n",
    "freq_go_term_ndces = most_frequent_goterms[1:][:20]\n",
    "\n",
    "# Build color vectors over genes, assigning each according to its most-enriched cluster. \n",
    "# Optionally only consider a small subset of clusters, e.g. given by Roarke.\n",
    "c_freqgo_terms = np.array(['Unknown'] * num_genes, dtype='S150')\n",
    "c_roarke_clusters = np.array(['Unknown'] * num_genes, dtype='S150')\n",
    "c_topenriched_clusters = np.array(['Unknown'] * num_genes, dtype='S150')\n",
    "\n",
    "for t in roarke_cluster_ndces:\n",
    "    c_roarke_clusters[ np.where(mostenriched_clusters_bygene == t)[0] ] = np.array(goterms_bycluster)[t]\n",
    "\n",
    "for t in sorted_cluster_ndces[:50]:\n",
    "    c_topenriched_clusters[ np.where(mostenriched_clusters_bygene == t)[0] ] = np.array(goterms_bycluster)[t]"
   ]
  },
  {
   "cell_type": "markdown",
   "metadata": {},
   "source": [
    "# Make a gene-gene graph\n",
    "\n",
    "This is a mixture of the following graphs:\n",
    "- Baseline GLS log-ratios\n",
    "- Cluster-one graph: edge weight is Jaccard similarity between cluster-one cluster membership sets\n",
    "- Roarke cluster edge similarity graph: As above, but using just Roarke's clusters\n",
    "\n",
    "$$\\mbox{new graph = } (c \\times \\mbox{cluster-one membership graph}) + (r \\times \\mbox{Roarke cluster membership graph}) + ((1-c-r) \\times \\mbox{GLS p-val graph}) $$\n",
    "with $0 \\leq r, c \\leq 1$ being some adjustable weight parameters.\n",
    "\n",
    "GLS p-values are all $< 0.03$ and the distribution is hugely right skewed, so this is mostly about cluster-one at the moment, just throwing in a little GLS to include the $\\sim 2K$ orphan genes that aren't in a cluster into the same connected component."
   ]
  },
  {
   "cell_type": "code",
   "execution_count": 165,
   "metadata": {},
   "outputs": [
    {
     "data": {
      "application/vnd.jupyter.widget-view+json": {
       "model_id": "8aa3884b06184745b9e87e89ff50968a",
       "version_major": 2,
       "version_minor": 0
      },
      "text/plain": [
       "HBox(children=(IntProgress(value=0, max=17634), HTML(value='')))"
      ]
     },
     "metadata": {},
     "output_type": "display_data"
    },
    {
     "data": {
      "application/vnd.jupyter.widget-view+json": {
       "model_id": "c98b8e716eef4606b09a15d0820172aa",
       "version_major": 2,
       "version_minor": 0
      },
      "text/plain": [
       "HBox(children=(IntProgress(value=0, max=17634), HTML(value='')))"
      ]
     },
     "metadata": {},
     "output_type": "display_data"
    },
    {
     "data": {
      "application/vnd.jupyter.widget-view+json": {
       "model_id": "3d25ebe3be0c46b497f252ad846f13ab",
       "version_major": 2,
       "version_minor": 0
      },
      "text/plain": [
       "HBox(children=(IntProgress(value=0, max=17634), HTML(value='')))"
      ]
     },
     "metadata": {},
     "output_type": "display_data"
    }
   ],
   "source": [
    "GLS_pvals_100 = dm.build_knn(fsm, k=100, symmetrize_type='inclusive')\n",
    "GLS_pvals_10 = dm.build_knn(GLS_pvals_100, k=10, symmetrize_type='inclusive')\n",
    "GLS_pvals_20_mutual = dm.build_knn(GLS_pvals_100, k=20, symmetrize_type='mutual')\n",
    "\n",
    "sp.sparse.save_npz(_data_path + 'GLS_pvals_100NN.npz', GLS_pvals_100)\n",
    "sp.sparse.save_npz(_data_path + 'GLS_pvals_10NN.npz', GLS_pvals_10)\n",
    "sp.sparse.save_npz(_data_path + 'GLS_pvals_20NN_mutual.npz', GLS_pvals_20_mutual)\n",
    "\n",
    "GLS_pvals_100 = sp.sparse.load_npz(_data_path + 'GLS_pvals_100NN.npz')\n",
    "GLS_pvals_10 = sp.sparse.load_npz(_data_path + 'GLS_pvals_10NN.npz')\n",
    "GLS_pvals_20_mutual = sp.sparse.load_npz(_data_path + 'GLS_pvals_20NN_mutual.npz')"
   ]
  },
  {
   "cell_type": "code",
   "execution_count": 419,
   "metadata": {
    "collapsed": true,
    "jupyter": {
     "outputs_hidden": true
    }
   },
   "outputs": [
    {
     "data": {
      "image/png": "[encoded data removed]",
      "text/plain": [
       "<Figure size 432x288 with 1 Axes>"
      ]
     },
     "metadata": {},
     "output_type": "display_data"
    }
   ],
   "source": [
    "gm = dm.build_knn(gg_jaccsims, k=50, symmetrize_type='mutual')\n",
    "gm_inc = dm.build_knn(gg_jaccsims, k=10, symmetrize_type='inclusive')\n",
    "rgm_inc = dm.build_knn(rgg_jaccsims, k=10, symmetrize_type='inclusive')\n",
    "\n",
    "sp.sparse.save_npz(_data_path + 'CO_10NN.npz', gm_inc)\n",
    "sp.sparse.save_npz(_data_path + 'CO_Roarke_10NN.npz', rgm_inc)\n",
    "\n",
    "gm_inc = sp.sparse.load_npz(_data_path + 'CO_10NN.npz')\n",
    "rgm_inc = sp.sparse.load_npz(_data_path + 'CO_Roarke_10NN.npz')"
   ]
  },
  {
   "cell_type": "markdown",
   "metadata": {},
   "source": [
    "# Original code for analysis"
   ]
  },
  {
   "cell_type": "code",
   "execution_count": 450,
   "metadata": {},
   "outputs": [
    {
     "name": "stdout",
     "output_type": "stream",
     "text": [
      "50 dimensions contain about 1.0000000000000004 fraction of the variance in the first 50 dimensions (t = 0)\n",
      "Laplacian eigenmap computed. Time: 2.626345634460449\n",
      "51 dimensions contain about 0.9000000000000006 fraction of the variance in the first 100 dimensions (t = 84.72566533212328)\n",
      "Diffusion components computed. Time: 7.408616781234741\n"
     ]
    },
    {
     "data": {
      "image/png": "[encoded data removed]",
      "text/plain": [
       "<Figure size 432x288 with 1 Axes>"
      ]
     },
     "metadata": {},
     "output_type": "display_data"
    },
    {
     "data": {
      "text/plain": [
       "'\\n# #Plot 1D projections; they are all standardized!\\n# dm.plot_histogram(emap_naive, k=1)\\n'"
      ]
     },
     "execution_count": 450,
     "metadata": {},
     "output_type": "execute_result"
    }
   ],
   "source": [
    "frac_CO_graph = 0.00\n",
    "frac_RoarkeCO_graph = 0.99\n",
    "frac_GLS_graph = 1-frac_CO_graph-frac_RoarkeCO_graph\n",
    "\n",
    "adj_mat = sp.sparse.csr_matrix((frac_CO_graph * gm_inc) + \n",
    "                               (frac_RoarkeCO_graph * rgm_inc) + \n",
    "                               (frac_GLS_graph * GLS_pvals_10)\n",
    "                              )\n",
    "itime = time.time()\n",
    "n_cmps = 100\n",
    "reduced_dim = 50\n",
    "\n",
    "sffix = \"_GLS1_CO0\"\n",
    "# sffix = \"_GLS01_RC99\"\n",
    "# sffix = \"_GLS02_CO49_RC49\"\n",
    "# sffix = \"_GLS01_CO99\"\n",
    "vizdf_filename = \"{}vizdf{}.csv\".format(_data_path, sffix)\n",
    "\n",
    "\"\"\"\n",
    "Create different eigenmaps:\n",
    "- Naive: unweighted on all axes.\n",
    "- Diffmap: scaling each axis by \\lambda^{t}\n",
    "\"\"\"\n",
    "emap_naive, eigvals = dm.diffmap_proj(adj_mat, t=0, n_comps=reduced_dim, embed_type='naive', return_eigvals=True)\n",
    "print(\"Laplacian eigenmap computed. Time: {}\".format(time.time() - itime))\n",
    "emap_heat = dm.diffmap_proj(adj_mat, n_comps=n_cmps, n_dims=reduced_dim, min_energy_frac=0.9, embed_type='diffmap', return_eigvals=False)\n",
    "print(\"Diffusion components computed. Time: {}\".format(time.time() - itime))\n",
    "\n",
    "plt.scatter(x=range(reduced_dim), y=np.abs(eigvals)[:reduced_dim])\n",
    "plt.show()\n",
    "\n",
    "\"\"\"\n",
    "# #Plot 1D projections; they are all standardized!\n",
    "# dm.plot_histogram(emap_naive, k=1)\n",
    "\"\"\"\n",
    "\n"
   ]
  },
  {
   "cell_type": "code",
   "execution_count": 451,
   "metadata": {},
   "outputs": [
    {
     "name": "stdout",
     "output_type": "stream",
     "text": [
      "90.56874084472656\n",
      "90.88595914840698\n"
     ]
    }
   ],
   "source": [
    "# Do t-SNE in diffusion component space.\n",
    "ann_naive = adata.AnnData(X=emap_naive[:, :40])\n",
    "ann_heat = adata.AnnData(X=emap_heat[:, :40])\n",
    "itime = time.time()\n",
    "sc.tl.tsne(ann_heat, use_rep='X')#, perplexity=30)\n",
    "print(time.time() - itime)\n",
    "itime = time.time()\n",
    "sc.tl.tsne(ann_naive, use_rep='X')\n",
    "print(time.time() - itime)"
   ]
  },
  {
   "cell_type": "code",
   "execution_count": 452,
   "metadata": {},
   "outputs": [
    {
     "name": "stdout",
     "output_type": "stream",
     "text": [
      "12.910095691680908\n",
      "25.986040115356445\n"
     ]
    }
   ],
   "source": [
    "itime = time.time()\n",
    "sc.pp.neighbors(ann_heat)\n",
    "print(time.time() - itime)\n",
    "itime = time.time()\n",
    "sc.tl.umap(ann_heat)#, perplexity=30)\n",
    "print(time.time() - itime)"
   ]
  },
  {
   "cell_type": "code",
   "execution_count": 442,
   "metadata": {},
   "outputs": [
    {
     "data": {
      "image/png": "[encoded data removed]",
      "text/plain": [
       "<Figure size 432x288 with 1 Axes>"
      ]
     },
     "metadata": {},
     "output_type": "display_data"
    }
   ],
   "source": [
    "ng = ann_heat.uns['neighbors']['connectivities'].sum(axis=0)\n",
    "plt.hist(np.squeeze(np.array(ng)), bins=150)\n",
    "plt.show()"
   ]
  },
  {
   "cell_type": "code",
   "execution_count": 453,
   "metadata": {},
   "outputs": [],
   "source": [
    "naive_dm = emap_naive[:, :3].copy()\n",
    "naive_tSNE = np.array(ann_naive.obsm['X_tsne'])\n",
    "heat_dm = emap_heat[:, :3].copy()\n",
    "heat_tSNE = np.array(ann_heat.obsm['X_tsne'])\n",
    "\n",
    "#naive_tSNE = np.array(ann_naive.obsm['X_tsne'])\n",
    "heat_umap = np.array(ann_heat.obsm['X_umap'])\n",
    "\n",
    "vizdf = pd.DataFrame(data=np.hstack((naive_dm, naive_tSNE, \n",
    "                                     heat_dm, heat_tSNE, heat_umap\n",
    "                                    )), \n",
    "                     columns=['EM_x', 'EM_y', 'EM_z', 'tSNE_x', 'tSNE_y', \n",
    "                              'hEM_x', 'hEM_y', 'hEM_z', 'htSNE_x', 'htSNE_y', 'hUMAP_x', 'hUMAP_y'\n",
    "                             ], dtype='object')\n",
    "\n",
    "vizdf['roarke_clusters'] = np.array([c.decode('utf-8') for c in c_roarke_clusters])\n",
    "vizdf['top_enriched_clusters'] = np.array([c.decode('utf-8') for c in c_topenriched_clusters])\n",
    "vizdf['gene_names'] = gene_names\n",
    "vizdf['max_enrichments'] = max_agg_enrichments_bygene\n",
    "vizdf.to_csv(vizdf_filename, sep=\"\\t\", index=False)"
   ]
  },
  {
   "cell_type": "code",
   "execution_count": 444,
   "metadata": {},
   "outputs": [],
   "source": [
    "vizdf = pd.read_csv(vizdf_filename, sep=\"\\t\", index_col=False)"
   ]
  }
 ],
 "metadata": {
  "kernelspec": {
   "display_name": "Python 3",
   "language": "python",
   "name": "python3"
  },
  "language_info": {
   "codemirror_mode": {
    "name": "ipython",
    "version": 3
   },
   "file_extension": ".py",
   "mimetype": "text/x-python",
   "name": "python",
   "nbconvert_exporter": "python",
   "pygments_lexer": "ipython3",
   "version": "3.7.4"
  }
 },
 "nbformat": 4,
 "nbformat_minor": 4
}
